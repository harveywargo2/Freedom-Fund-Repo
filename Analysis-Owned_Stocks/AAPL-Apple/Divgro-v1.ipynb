{
 "cells": [
  {
   "cell_type": "markdown",
   "metadata": {
    "collapsed": false,
    "jupyter": {
     "outputs_hidden": false
    },
    "pycharm": {
     "name": "#%% md\n"
    }
   },
   "source": [
    "# Divgro - Version 1"
   ]
  },
  {
   "cell_type": "code",
   "execution_count": null,
   "metadata": {
    "collapsed": false,
    "jupyter": {
     "outputs_hidden": false
    },
    "pycharm": {
     "name": "#%%\n"
    }
   },
   "outputs": [],
   "source": [
    "%%capture\n",
    "\n",
    "import pandas as pd\n",
    "import plotly.express as px\n",
    "import aesoppy.aesop as aesop\n",
    "import os\n",
    "\n",
    "# Comon Variables\n",
    "data = os.path.join(os.getcwd(), 'data')\n",
    "\n",
    "# DataFrames\n",
    "div_df = pd.read_csv(os.path.join(data, 'dividend.csv'), index_col='ex_date')\n",
    "pershare_df = pd.read_csv(os.path.join(data, 'pershare.csv'), index_col='fiscal_year')\n",
    "fin_df = pd.read_csv(os.path.join(data, 'financials.csv'), index_col='fiscal_year')\n",
    "divgro_cy_df = aesop.DividendPerShareCy(dividend_df=div_df).pershare_div_cy_growth_df\n",
    "divgro_fy_df = aesop.DividendPerShareFy(pershare_df=pershare_df).pershare_div_fy_growth_df\n",
    "divgro_tot_df = aesop.DividendTotalCashFy(financials_df=fin_df).dividend_paid_fy_df"
   ]
  },
  {
   "cell_type": "markdown",
   "metadata": {
    "collapsed": false,
    "jupyter": {
     "outputs_hidden": false
    },
    "pycharm": {
     "name": "#%% md\n"
    }
   },
   "source": [
    "Dividend Payout Growth in Calendar Year"
   ]
  },
  {
   "cell_type": "code",
   "execution_count": null,
   "metadata": {
    "collapsed": false,
    "jupyter": {
     "outputs_hidden": false
    },
    "pycharm": {
     "name": "#%%\n"
    }
   },
   "outputs": [],
   "source": [
    "divgro_cy_df['growth_cy'] = round(divgro_cy_df['divgro_cy'] * 100, 2)\n",
    "divgro_cy_df.drop(divgro_cy_df.index[-1], inplace=True)\n",
    "divgro_cy_df"
   ]
  },
  {
   "cell_type": "code",
   "execution_count": null,
   "metadata": {
    "collapsed": false,
    "jupyter": {
     "outputs_hidden": false
    },
    "pycharm": {
     "name": "#%%\n"
    }
   },
   "outputs": [],
   "source": [
    "dg_cy_fig = px.bar(x=divgro_cy_df.index, y=divgro_cy_df['growth_cy'], labels={'x': 'CY', 'y':'%'})\n",
    "dg_cy_fig.show()"
   ]
  },
  {
   "cell_type": "code",
   "execution_count": null,
   "metadata": {
    "collapsed": false,
    "jupyter": {
     "outputs_hidden": false
    },
    "pycharm": {
     "name": "#%%\n"
    }
   },
   "outputs": [],
   "source": [
    "divgro_cy_10_mean = round(divgro_cy_df['growth_cy'].tail(10).mean(), 2)\n",
    "divgro_cy_5_mean = round(divgro_cy_df['growth_cy'].tail(5).mean(), 2)\n",
    "divgro_cy_3_mean = round(divgro_cy_df['growth_cy'].tail(3).mean(), 2)\n",
    "\n",
    "print(f'The 10 year mean dividend growth per CY is: {divgro_cy_10_mean}%')\n",
    "print()\n",
    "print(f'The 5 year mean dividend growth per CY is: {divgro_cy_5_mean}%')\n",
    "print()\n",
    "print(f'The 3 year mean dividend growth per CY is: {divgro_cy_3_mean}%')\n",
    "print()"
   ]
  },
  {
   "cell_type": "markdown",
   "metadata": {
    "collapsed": false,
    "jupyter": {
     "outputs_hidden": false
    },
    "pycharm": {
     "name": "#%% md\n"
    }
   },
   "source": [
    "## Dividend Growth in Fiscal Year"
   ]
  },
  {
   "cell_type": "code",
   "execution_count": null,
   "metadata": {
    "collapsed": false,
    "jupyter": {
     "outputs_hidden": false
    },
    "pycharm": {
     "name": "#%%\n"
    }
   },
   "outputs": [],
   "source": [
    "divgro_fy_df['growth_fy'] = round(divgro_fy_df['divgro_fy'] * 100, 2)\n",
    "divgro_fy_df"
   ]
  },
  {
   "cell_type": "code",
   "execution_count": null,
   "metadata": {
    "collapsed": false,
    "jupyter": {
     "outputs_hidden": false
    },
    "pycharm": {
     "name": "#%%\n"
    }
   },
   "outputs": [],
   "source": [
    "dg_fy_fig = px.bar(x=divgro_fy_df.index, y=divgro_fy_df['growth_fy'], color_discrete_sequence=['red'], labels={'x': 'FY', 'y':'%'})\n",
    "dg_fy_fig.show()"
   ]
  },
  {
   "cell_type": "code",
   "execution_count": null,
   "metadata": {
    "collapsed": false,
    "jupyter": {
     "outputs_hidden": false
    },
    "pycharm": {
     "name": "#%%\n"
    }
   },
   "outputs": [],
   "source": [
    "divgro_fy_10_mean = round(divgro_fy_df['growth_fy'].tail(10).mean(), 2)\n",
    "divgro_fy_5_mean = round(divgro_fy_df['growth_fy'].tail(5).mean(), 2)\n",
    "divgro_fy_3_mean = round(divgro_fy_df['growth_fy'].tail(3).mean(), 2)\n",
    "\n",
    "print(f'The 10 year mean dividend growth per FY is: {divgro_fy_10_mean}%')\n",
    "print()\n",
    "print(f'The 5 year mean dividend growth per FY is: {divgro_fy_5_mean}%')\n",
    "print()\n",
    "print(f'The 3 year mean dividend growth per FY is: {divgro_fy_3_mean}%')\n",
    "print()"
   ]
  },
  {
   "cell_type": "code",
   "execution_count": null,
   "metadata": {
    "collapsed": false,
    "jupyter": {
     "outputs_hidden": false
    },
    "pycharm": {
     "name": "#%%\n"
    }
   },
   "outputs": [],
   "source": [
    "divgro_tot_df['growth'] = round(divgro_tot_df['divgro'] * 100, 2)\n",
    "divgro_tot_df"
   ]
  },
  {
   "cell_type": "code",
   "execution_count": null,
   "metadata": {
    "collapsed": false,
    "jupyter": {
     "outputs_hidden": false
    },
    "pycharm": {
     "name": "#%%\n"
    }
   },
   "outputs": [],
   "source": [
    "dg_tot_fig = px.bar(x=divgro_tot_df.index, y=divgro_tot_df['growth'], color_discrete_sequence=['yellow'], labels={'x': 'FY', 'y':'%'})\n",
    "dg_tot_fig.show()"
   ]
  },
  {
   "cell_type": "code",
   "execution_count": null,
   "metadata": {
    "collapsed": false,
    "jupyter": {
     "outputs_hidden": false
    },
    "pycharm": {
     "name": "#%%\n"
    }
   },
   "outputs": [],
   "source": [
    "divgro_tot_10_mean = round(divgro_tot_df['growth'].tail(10).mean(), 2)\n",
    "divgro_tot_5_mean = round(divgro_tot_df['growth'].tail(5).mean(), 2)\n",
    "divgro_tot_3_mean = round(divgro_tot_df['growth'].tail(3).mean(), 2)\n",
    "\n",
    "print(f'The 10 year mean dividend total cash paid growth per FY is: {divgro_tot_10_mean}%')\n",
    "print()\n",
    "print(f'The 5 year mean dividend dividend total cash paid growth per FY is: {divgro_tot_5_mean}%')\n",
    "print()\n",
    "print(f'The 3 year mean dividend dividend total cash paid growth per FY is: {divgro_tot_3_mean}%')\n",
    "print()"
   ]
  }
 ],
 "metadata": {
  "kernelspec": {
   "display_name": "Python 3 (ipykernel)",
   "language": "python",
   "name": "python3"
  },
  "language_info": {
   "codemirror_mode": {
    "name": "ipython",
    "version": 3
   },
   "file_extension": ".py",
   "mimetype": "text/x-python",
   "name": "python",
   "nbconvert_exporter": "python",
   "pygments_lexer": "ipython3",
   "version": "3.9.6"
  }
 },
 "nbformat": 4,
 "nbformat_minor": 4
}