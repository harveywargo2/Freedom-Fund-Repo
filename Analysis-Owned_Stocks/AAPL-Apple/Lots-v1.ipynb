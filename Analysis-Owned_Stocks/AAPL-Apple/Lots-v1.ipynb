{
 "cells": [
  {
   "cell_type": "markdown",
   "metadata": {
    "collapsed": false,
    "jupyter": {
     "outputs_hidden": false
    },
    "pycharm": {
     "name": "#%% md\n"
    }
   },
   "source": [
    "# Lots - Version 1"
   ]
  },
  {
   "cell_type": "code",
   "execution_count": 1,
   "metadata": {
    "collapsed": false,
    "jupyter": {
     "outputs_hidden": false
    },
    "pycharm": {
     "name": "#%%\n"
    }
   },
   "outputs": [],
   "source": [
    "%%capture\n",
    "\n",
    "import pandas as pd\n",
    "import aesoppy.aesop as aesop\n",
    "import os\n",
    "\n",
    "# Comon Variables\n",
    "data = os.path.join(os.getcwd(), 'data')\n",
    "\n",
    "# DataFrames\n",
    "lots_df = pd.read_csv(os.path.join(data, 'lots.csv'))\n",
    "lots_df['date'] = pd.to_datetime(lots_df['date'], format='%m/%d/%y')\n",
    "lots_df.set_index('date', inplace=True)\n",
    "\n",
    "# Current Data\n",
    "stock_price = 227\n",
    "fwd_div = 1\n",
    "current_year = aesop.aesop_now.year\n",
    "\n"
   ]
  },
  {
   "cell_type": "code",
   "execution_count": 2,
   "metadata": {
    "collapsed": false,
    "jupyter": {
     "outputs_hidden": false
    },
    "pycharm": {
     "name": "#%%\n"
    }
   },
   "outputs": [
    {
     "data": {
      "text/html": [
       "<div>\n",
       "<style scoped>\n",
       "    .dataframe tbody tr th:only-of-type {\n",
       "        vertical-align: middle;\n",
       "    }\n",
       "\n",
       "    .dataframe tbody tr th {\n",
       "        vertical-align: top;\n",
       "    }\n",
       "\n",
       "    .dataframe thead th {\n",
       "        text-align: right;\n",
       "    }\n",
       "</style>\n",
       "<table border=\"1\" class=\"dataframe\">\n",
       "  <thead>\n",
       "    <tr style=\"text-align: right;\">\n",
       "      <th></th>\n",
       "      <th>lot_cost</th>\n",
       "      <th>lot_div</th>\n",
       "      <th>div_total</th>\n",
       "      <th>fwd_div</th>\n",
       "      <th>lot_year</th>\n",
       "      <th>price</th>\n",
       "      <th>current_year</th>\n",
       "      <th>yoc</th>\n",
       "      <th>end_total</th>\n",
       "      <th>end_begin</th>\n",
       "      <th>period</th>\n",
       "      <th>cagr</th>\n",
       "    </tr>\n",
       "    <tr>\n",
       "      <th>date</th>\n",
       "      <th></th>\n",
       "      <th></th>\n",
       "      <th></th>\n",
       "      <th></th>\n",
       "      <th></th>\n",
       "      <th></th>\n",
       "      <th></th>\n",
       "      <th></th>\n",
       "      <th></th>\n",
       "      <th></th>\n",
       "      <th></th>\n",
       "      <th></th>\n",
       "    </tr>\n",
       "  </thead>\n",
       "  <tbody>\n",
       "    <tr>\n",
       "      <th>2019-01-07</th>\n",
       "      <td>36.8310</td>\n",
       "      <td>0.76</td>\n",
       "      <td>5.16</td>\n",
       "      <td>1</td>\n",
       "      <td>2019</td>\n",
       "      <td>227</td>\n",
       "      <td>2025</td>\n",
       "      <td>2.72</td>\n",
       "      <td>232.16</td>\n",
       "      <td>6.303386</td>\n",
       "      <td>0.166667</td>\n",
       "      <td>35.91</td>\n",
       "    </tr>\n",
       "    <tr>\n",
       "      <th>2018-11-27</th>\n",
       "      <td>43.3669</td>\n",
       "      <td>0.72</td>\n",
       "      <td>5.72</td>\n",
       "      <td>1</td>\n",
       "      <td>2018</td>\n",
       "      <td>227</td>\n",
       "      <td>2025</td>\n",
       "      <td>2.31</td>\n",
       "      <td>232.72</td>\n",
       "      <td>5.366305</td>\n",
       "      <td>0.142857</td>\n",
       "      <td>27.13</td>\n",
       "    </tr>\n",
       "    <tr>\n",
       "      <th>2017-05-15</th>\n",
       "      <td>38.9845</td>\n",
       "      <td>0.64</td>\n",
       "      <td>6.55</td>\n",
       "      <td>1</td>\n",
       "      <td>2017</td>\n",
       "      <td>227</td>\n",
       "      <td>2025</td>\n",
       "      <td>2.57</td>\n",
       "      <td>233.55</td>\n",
       "      <td>5.990843</td>\n",
       "      <td>0.125000</td>\n",
       "      <td>25.08</td>\n",
       "    </tr>\n",
       "  </tbody>\n",
       "</table>\n",
       "</div>"
      ],
      "text/plain": [
       "            lot_cost  lot_div  div_total  fwd_div  lot_year  price  \\\n",
       "date                                                                 \n",
       "2019-01-07   36.8310     0.76       5.16        1      2019    227   \n",
       "2018-11-27   43.3669     0.72       5.72        1      2018    227   \n",
       "2017-05-15   38.9845     0.64       6.55        1      2017    227   \n",
       "\n",
       "            current_year   yoc  end_total  end_begin    period   cagr  \n",
       "date                                                                   \n",
       "2019-01-07          2025  2.72     232.16   6.303386  0.166667  35.91  \n",
       "2018-11-27          2025  2.31     232.72   5.366305  0.142857  27.13  \n",
       "2017-05-15          2025  2.57     233.55   5.990843  0.125000  25.08  "
      ]
     },
     "execution_count": 2,
     "metadata": {},
     "output_type": "execute_result"
    }
   ],
   "source": [
    "lots_df['fwd_div'] = fwd_div\n",
    "lots_df['lot_year'] = lots_df.index.year\n",
    "lots_df['price'] = stock_price\n",
    "lots_df['current_year'] = aesop.aesop_now.year\n",
    "lots_df['yoc'] = round((lots_df['fwd_div'] / lots_df['lot_cost']) * 100, 2)\n",
    "lots_df['end_total'] = lots_df['price'] + lots_df['div_total']\n",
    "lots_df['end_begin'] = lots_df['end_total'] / lots_df['lot_cost']\n",
    "lots_df['period'] = 1 / (lots_df['current_year'] - lots_df['lot_year'])\n",
    "lots_df['cagr'] = round(((lots_df['end_begin'] ** lots_df['period']) - 1) * 100, 2)\n",
    "lots_df"
   ]
  },
  {
   "cell_type": "code",
   "execution_count": null,
   "metadata": {
    "collapsed": false,
    "jupyter": {
     "outputs_hidden": false
    },
    "pycharm": {
     "name": "#%%\n"
    }
   },
   "outputs": [],
   "source": [
    "\n",
    "\n"
   ]
  }
 ],
 "metadata": {
  "kernelspec": {
   "display_name": "Python 3 (ipykernel)",
   "language": "python",
   "name": "python3"
  },
  "language_info": {
   "codemirror_mode": {
    "name": "ipython",
    "version": 3
   },
   "file_extension": ".py",
   "mimetype": "text/x-python",
   "name": "python",
   "nbconvert_exporter": "python",
   "pygments_lexer": "ipython3",
   "version": "3.9.6"
  }
 },
 "nbformat": 4,
 "nbformat_minor": 4
}
