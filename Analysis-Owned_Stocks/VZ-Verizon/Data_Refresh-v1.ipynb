{
 "cells": [
  {
   "cell_type": "markdown",
   "source": [
    "# Notebook to refresh data"
   ],
   "metadata": {
    "collapsed": false,
    "pycharm": {
     "name": "#%% md\n"
    }
   }
  },
  {
   "cell_type": "code",
   "source": [
    "%%capture\n",
    "\n",
    "import aesoppy.gurufocus as gf\n",
    "from dotenv import load_dotenv\n",
    "import os\n",
    "\n",
    "\n",
    "load_dotenv()\n",
    "gt = os.getenv('guru_token')\n",
    "ticker = 'VZ'\n"
   ],
   "metadata": {
    "collapsed": false,
    "pycharm": {
     "name": "#%%\n"
    },
    "ExecuteTime": {
     "end_time": "2025-02-22T12:57:51.351977Z",
     "start_time": "2025-02-22T12:57:51.348631Z"
    }
   },
   "outputs": [],
   "execution_count": 4
  },
  {
   "cell_type": "code",
   "source": [
    "os.makedirs('data', exist_ok=True)\n",
    "directory = os.path.join(os.getcwd(), 'data')"
   ],
   "metadata": {
    "collapsed": false,
    "pycharm": {
     "name": "#%%\n"
    },
    "ExecuteTime": {
     "end_time": "2025-02-22T12:57:51.365399Z",
     "start_time": "2025-02-22T12:57:51.363121Z"
    }
   },
   "outputs": [],
   "execution_count": 5
  },
  {
   "cell_type": "code",
   "source": [
    "aesop_div = gf.GuruDividendHistory(ticker=ticker, token=gt).aesop_div_data_df\n",
    "aesop_div.to_csv(os.path.join(directory, 'dividend.csv'), index=False)"
   ],
   "metadata": {
    "collapsed": false,
    "pycharm": {
     "name": "#%%\n"
    },
    "ExecuteTime": {
     "end_time": "2025-02-22T12:57:52.009762Z",
     "start_time": "2025-02-22T12:57:51.374664Z"
    }
   },
   "outputs": [],
   "execution_count": 6
  },
  {
   "cell_type": "code",
   "source": [
    "aesop_price = gf.GuruPriceHistory(ticker=ticker, token=gt).aesop_price_df\n",
    "aesop_price.to_csv(os.path.join(directory, 'price.csv'), index=False)"
   ],
   "metadata": {
    "collapsed": false,
    "pycharm": {
     "name": "#%%\n"
    },
    "ExecuteTime": {
     "end_time": "2025-02-22T12:57:52.838184Z",
     "start_time": "2025-02-22T12:57:52.014135Z"
    }
   },
   "outputs": [],
   "execution_count": 7
  },
  {
   "cell_type": "code",
   "source": [
    "aesop_fin = gf.GuruStockAnnualTenK(ticker=ticker, token=gt).aesop_fin_df\n",
    "aesop_fin.to_csv(os.path.join(directory, 'financials.csv'), index=False)"
   ],
   "metadata": {
    "collapsed": false,
    "pycharm": {
     "name": "#%%\n"
    },
    "ExecuteTime": {
     "end_time": "2025-02-22T12:57:53.682475Z",
     "start_time": "2025-02-22T12:57:52.845714Z"
    }
   },
   "outputs": [],
   "execution_count": 8
  },
  {
   "cell_type": "code",
   "source": [
    "aesop_pershare = gf.GuruStockAnnualTenK(ticker=ticker, token=gt).aesop_pershare_df\n",
    "aesop_pershare.to_csv(os.path.join(directory, 'pershare.csv'), index=False)"
   ],
   "metadata": {
    "collapsed": false,
    "pycharm": {
     "name": "#%%\n"
    },
    "ExecuteTime": {
     "end_time": "2025-02-22T12:57:54.471656Z",
     "start_time": "2025-02-22T12:57:53.689589Z"
    }
   },
   "outputs": [],
   "execution_count": 9
  }
 ],
 "metadata": {
  "kernelspec": {
   "display_name": "Python 3",
   "language": "python",
   "name": "python3"
  },
  "language_info": {
   "codemirror_mode": {
    "name": "ipython",
    "version": 2
   },
   "file_extension": ".py",
   "mimetype": "text/x-python",
   "name": "python",
   "nbconvert_exporter": "python",
   "pygments_lexer": "ipython2",
   "version": "2.7.6"
  }
 },
 "nbformat": 4,
 "nbformat_minor": 0
}
