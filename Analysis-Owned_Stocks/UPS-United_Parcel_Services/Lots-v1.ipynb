{
 "cells": [
  {
   "cell_type": "markdown",
   "metadata": {
    "collapsed": false,
    "jupyter": {
     "outputs_hidden": false
    },
    "pycharm": {
     "name": "#%% md\n"
    }
   },
   "source": [
    "# Lots - Version 1"
   ]
  },
  {
   "cell_type": "code",
   "execution_count": 1,
   "metadata": {
    "collapsed": false,
    "jupyter": {
     "outputs_hidden": false
    },
    "pycharm": {
     "name": "#%%\n"
    }
   },
   "outputs": [],
   "source": [
    "%%capture\n",
    "\n",
    "import pandas as pd\n",
    "import aesoppy.aesop as aesop\n",
    "import os\n",
    "\n",
    "# Comon Variables\n",
    "data = os.path.join(os.getcwd(), 'data')\n",
    "\n",
    "# DataFrames\n",
    "lots_df = pd.read_csv(os.path.join(data, 'lots.csv'))\n",
    "lots_df['date'] = pd.to_datetime(lots_df['date'], format='%m/%d/%y')\n",
    "lots_df.set_index('date', inplace=True)\n",
    "\n",
    "# Current Data\n",
    "stock_price = 113\n",
    "fwd_div = 6.56\n",
    "current_year = aesop.aesop_now.year\n",
    "\n"
   ]
  },
  {
   "cell_type": "code",
   "execution_count": 2,
   "metadata": {
    "collapsed": false,
    "jupyter": {
     "outputs_hidden": false
    },
    "pycharm": {
     "name": "#%%\n"
    }
   },
   "outputs": [
    {
     "data": {
      "text/html": [
       "<div>\n",
       "<style scoped>\n",
       "    .dataframe tbody tr th:only-of-type {\n",
       "        vertical-align: middle;\n",
       "    }\n",
       "\n",
       "    .dataframe tbody tr th {\n",
       "        vertical-align: top;\n",
       "    }\n",
       "\n",
       "    .dataframe thead th {\n",
       "        text-align: right;\n",
       "    }\n",
       "</style>\n",
       "<table border=\"1\" class=\"dataframe\">\n",
       "  <thead>\n",
       "    <tr style=\"text-align: right;\">\n",
       "      <th></th>\n",
       "      <th>lot_cost</th>\n",
       "      <th>lot_div</th>\n",
       "      <th>div_total</th>\n",
       "      <th>fwd_div</th>\n",
       "      <th>lot_year</th>\n",
       "      <th>price</th>\n",
       "      <th>current_year</th>\n",
       "      <th>yoc</th>\n",
       "      <th>end_total</th>\n",
       "      <th>end_begin</th>\n",
       "      <th>period</th>\n",
       "      <th>cagr</th>\n",
       "    </tr>\n",
       "    <tr>\n",
       "      <th>date</th>\n",
       "      <th></th>\n",
       "      <th></th>\n",
       "      <th></th>\n",
       "      <th></th>\n",
       "      <th></th>\n",
       "      <th></th>\n",
       "      <th></th>\n",
       "      <th></th>\n",
       "      <th></th>\n",
       "      <th></th>\n",
       "      <th></th>\n",
       "      <th></th>\n",
       "    </tr>\n",
       "  </thead>\n",
       "  <tbody>\n",
       "    <tr>\n",
       "      <th>2020-03-09</th>\n",
       "      <td>91.6800</td>\n",
       "      <td>4.04</td>\n",
       "      <td>27.83</td>\n",
       "      <td>6.56</td>\n",
       "      <td>2020</td>\n",
       "      <td>113</td>\n",
       "      <td>2025</td>\n",
       "      <td>7.16</td>\n",
       "      <td>140.83</td>\n",
       "      <td>1.536104</td>\n",
       "      <td>0.200000</td>\n",
       "      <td>8.96</td>\n",
       "    </tr>\n",
       "    <tr>\n",
       "      <th>2020-03-06</th>\n",
       "      <td>91.7100</td>\n",
       "      <td>4.04</td>\n",
       "      <td>27.83</td>\n",
       "      <td>6.56</td>\n",
       "      <td>2020</td>\n",
       "      <td>113</td>\n",
       "      <td>2025</td>\n",
       "      <td>7.15</td>\n",
       "      <td>140.83</td>\n",
       "      <td>1.535601</td>\n",
       "      <td>0.200000</td>\n",
       "      <td>8.96</td>\n",
       "    </tr>\n",
       "    <tr>\n",
       "      <th>2020-02-28</th>\n",
       "      <td>90.0700</td>\n",
       "      <td>4.04</td>\n",
       "      <td>27.83</td>\n",
       "      <td>6.56</td>\n",
       "      <td>2020</td>\n",
       "      <td>113</td>\n",
       "      <td>2025</td>\n",
       "      <td>7.28</td>\n",
       "      <td>140.83</td>\n",
       "      <td>1.563562</td>\n",
       "      <td>0.200000</td>\n",
       "      <td>9.35</td>\n",
       "    </tr>\n",
       "    <tr>\n",
       "      <th>2020-02-28</th>\n",
       "      <td>88.9084</td>\n",
       "      <td>4.04</td>\n",
       "      <td>27.83</td>\n",
       "      <td>6.56</td>\n",
       "      <td>2020</td>\n",
       "      <td>113</td>\n",
       "      <td>2025</td>\n",
       "      <td>7.38</td>\n",
       "      <td>140.83</td>\n",
       "      <td>1.583990</td>\n",
       "      <td>0.200000</td>\n",
       "      <td>9.64</td>\n",
       "    </tr>\n",
       "    <tr>\n",
       "      <th>2020-02-25</th>\n",
       "      <td>98.8500</td>\n",
       "      <td>4.04</td>\n",
       "      <td>27.83</td>\n",
       "      <td>6.56</td>\n",
       "      <td>2020</td>\n",
       "      <td>113</td>\n",
       "      <td>2025</td>\n",
       "      <td>6.64</td>\n",
       "      <td>140.83</td>\n",
       "      <td>1.424684</td>\n",
       "      <td>0.200000</td>\n",
       "      <td>7.34</td>\n",
       "    </tr>\n",
       "    <tr>\n",
       "      <th>2019-05-13</th>\n",
       "      <td>98.8047</td>\n",
       "      <td>3.84</td>\n",
       "      <td>31.72</td>\n",
       "      <td>6.56</td>\n",
       "      <td>2019</td>\n",
       "      <td>113</td>\n",
       "      <td>2025</td>\n",
       "      <td>6.64</td>\n",
       "      <td>144.72</td>\n",
       "      <td>1.464708</td>\n",
       "      <td>0.166667</td>\n",
       "      <td>6.57</td>\n",
       "    </tr>\n",
       "  </tbody>\n",
       "</table>\n",
       "</div>"
      ],
      "text/plain": [
       "            lot_cost  lot_div  div_total  fwd_div  lot_year  price  \\\n",
       "date                                                                 \n",
       "2020-03-09   91.6800     4.04      27.83     6.56      2020    113   \n",
       "2020-03-06   91.7100     4.04      27.83     6.56      2020    113   \n",
       "2020-02-28   90.0700     4.04      27.83     6.56      2020    113   \n",
       "2020-02-28   88.9084     4.04      27.83     6.56      2020    113   \n",
       "2020-02-25   98.8500     4.04      27.83     6.56      2020    113   \n",
       "2019-05-13   98.8047     3.84      31.72     6.56      2019    113   \n",
       "\n",
       "            current_year   yoc  end_total  end_begin    period  cagr  \n",
       "date                                                                  \n",
       "2020-03-09          2025  7.16     140.83   1.536104  0.200000  8.96  \n",
       "2020-03-06          2025  7.15     140.83   1.535601  0.200000  8.96  \n",
       "2020-02-28          2025  7.28     140.83   1.563562  0.200000  9.35  \n",
       "2020-02-28          2025  7.38     140.83   1.583990  0.200000  9.64  \n",
       "2020-02-25          2025  6.64     140.83   1.424684  0.200000  7.34  \n",
       "2019-05-13          2025  6.64     144.72   1.464708  0.166667  6.57  "
      ]
     },
     "execution_count": 2,
     "metadata": {},
     "output_type": "execute_result"
    }
   ],
   "source": [
    "lots_df['fwd_div'] = fwd_div\n",
    "lots_df['lot_year'] = lots_df.index.year\n",
    "lots_df['price'] = stock_price\n",
    "lots_df['current_year'] = aesop.aesop_now.year\n",
    "lots_df['yoc'] = round((lots_df['fwd_div'] / lots_df['lot_cost']) * 100, 2)\n",
    "lots_df['end_total'] = lots_df['price'] + lots_df['div_total']\n",
    "lots_df['end_begin'] = lots_df['end_total'] / lots_df['lot_cost']\n",
    "lots_df['period'] = 1 / (lots_df['current_year'] - lots_df['lot_year'])\n",
    "lots_df['cagr'] = round(((lots_df['end_begin'] ** lots_df['period']) - 1) * 100, 2)\n",
    "lots_df"
   ]
  },
  {
   "cell_type": "code",
   "execution_count": null,
   "metadata": {
    "collapsed": false,
    "jupyter": {
     "outputs_hidden": false
    },
    "pycharm": {
     "name": "#%%\n"
    }
   },
   "outputs": [],
   "source": [
    "\n",
    "\n"
   ]
  }
 ],
 "metadata": {
  "kernelspec": {
   "display_name": "Python 3 (ipykernel)",
   "language": "python",
   "name": "python3"
  },
  "language_info": {
   "codemirror_mode": {
    "name": "ipython",
    "version": 3
   },
   "file_extension": ".py",
   "mimetype": "text/x-python",
   "name": "python",
   "nbconvert_exporter": "python",
   "pygments_lexer": "ipython3",
   "version": "3.9.6"
  }
 },
 "nbformat": 4,
 "nbformat_minor": 4
}
