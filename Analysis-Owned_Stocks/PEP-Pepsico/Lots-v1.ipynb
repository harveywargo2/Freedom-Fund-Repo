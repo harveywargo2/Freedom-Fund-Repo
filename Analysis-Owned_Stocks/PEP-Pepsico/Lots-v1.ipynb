{
 "cells": [
  {
   "cell_type": "markdown",
   "metadata": {
    "collapsed": false,
    "jupyter": {
     "outputs_hidden": false
    },
    "pycharm": {
     "name": "#%% md\n"
    }
   },
   "source": [
    "# Lots - Version 1"
   ]
  },
  {
   "cell_type": "code",
   "execution_count": 1,
   "metadata": {
    "collapsed": false,
    "jupyter": {
     "outputs_hidden": false
    },
    "pycharm": {
     "name": "#%%\n"
    }
   },
   "outputs": [],
   "source": [
    "%%capture\n",
    "\n",
    "import pandas as pd\n",
    "import aesoppy.aesop as aesop\n",
    "import os\n",
    "\n",
    "# Comon Variables\n",
    "data = os.path.join(os.getcwd(), 'data')\n",
    "\n",
    "# DataFrames\n",
    "lots_df = pd.read_csv(os.path.join(data, 'lots.csv'))\n",
    "lots_df['date'] = pd.to_datetime(lots_df['date'], format='%m/%d/%y')\n",
    "lots_df.set_index('date', inplace=True)\n",
    "\n",
    "# Current Data\n",
    "stock_price = 180\n",
    "fwd_div = 5.42\n",
    "current_year = aesop.aesop_now.year\n",
    "\n"
   ]
  },
  {
   "cell_type": "code",
   "execution_count": 2,
   "metadata": {
    "collapsed": false,
    "jupyter": {
     "outputs_hidden": false
    },
    "pycharm": {
     "name": "#%%\n"
    }
   },
   "outputs": [
    {
     "data": {
      "text/html": [
       "<div>\n",
       "<style scoped>\n",
       "    .dataframe tbody tr th:only-of-type {\n",
       "        vertical-align: middle;\n",
       "    }\n",
       "\n",
       "    .dataframe tbody tr th {\n",
       "        vertical-align: top;\n",
       "    }\n",
       "\n",
       "    .dataframe thead th {\n",
       "        text-align: right;\n",
       "    }\n",
       "</style>\n",
       "<table border=\"1\" class=\"dataframe\">\n",
       "  <thead>\n",
       "    <tr style=\"text-align: right;\">\n",
       "      <th></th>\n",
       "      <th>lot_cost</th>\n",
       "      <th>lot_div</th>\n",
       "      <th>div_total</th>\n",
       "      <th>fwd_div</th>\n",
       "      <th>lot_year</th>\n",
       "      <th>price</th>\n",
       "      <th>current_year</th>\n",
       "      <th>yoc</th>\n",
       "      <th>end_total</th>\n",
       "      <th>end_begin</th>\n",
       "      <th>period</th>\n",
       "      <th>cagr</th>\n",
       "    </tr>\n",
       "    <tr>\n",
       "      <th>date</th>\n",
       "      <th></th>\n",
       "      <th></th>\n",
       "      <th></th>\n",
       "      <th></th>\n",
       "      <th></th>\n",
       "      <th></th>\n",
       "      <th></th>\n",
       "      <th></th>\n",
       "      <th></th>\n",
       "      <th></th>\n",
       "      <th></th>\n",
       "      <th></th>\n",
       "    </tr>\n",
       "  </thead>\n",
       "  <tbody>\n",
       "    <tr>\n",
       "      <th>2025-02-06</th>\n",
       "      <td>145.4584</td>\n",
       "      <td>5.44</td>\n",
       "      <td>0.00</td>\n",
       "      <td>5.42</td>\n",
       "      <td>2025</td>\n",
       "      <td>180</td>\n",
       "      <td>2025</td>\n",
       "      <td>3.73</td>\n",
       "      <td>180.00</td>\n",
       "      <td>1.237467</td>\n",
       "      <td>inf</td>\n",
       "      <td>inf</td>\n",
       "    </tr>\n",
       "    <tr>\n",
       "      <th>2025-01-16</th>\n",
       "      <td>145.8352</td>\n",
       "      <td>5.44</td>\n",
       "      <td>0.00</td>\n",
       "      <td>5.42</td>\n",
       "      <td>2025</td>\n",
       "      <td>180</td>\n",
       "      <td>2025</td>\n",
       "      <td>3.72</td>\n",
       "      <td>180.00</td>\n",
       "      <td>1.234270</td>\n",
       "      <td>inf</td>\n",
       "      <td>inf</td>\n",
       "    </tr>\n",
       "    <tr>\n",
       "      <th>2021-02-26</th>\n",
       "      <td>130.7200</td>\n",
       "      <td>4.08</td>\n",
       "      <td>20.40</td>\n",
       "      <td>5.42</td>\n",
       "      <td>2021</td>\n",
       "      <td>180</td>\n",
       "      <td>2025</td>\n",
       "      <td>4.15</td>\n",
       "      <td>200.40</td>\n",
       "      <td>1.533048</td>\n",
       "      <td>0.25</td>\n",
       "      <td>11.27</td>\n",
       "    </tr>\n",
       "    <tr>\n",
       "      <th>2020-06-15</th>\n",
       "      <td>128.0600</td>\n",
       "      <td>4.08</td>\n",
       "      <td>22.45</td>\n",
       "      <td>5.42</td>\n",
       "      <td>2020</td>\n",
       "      <td>180</td>\n",
       "      <td>2025</td>\n",
       "      <td>4.23</td>\n",
       "      <td>202.45</td>\n",
       "      <td>1.580900</td>\n",
       "      <td>0.20</td>\n",
       "      <td>9.59</td>\n",
       "    </tr>\n",
       "    <tr>\n",
       "      <th>2020-06-11</th>\n",
       "      <td>130.1300</td>\n",
       "      <td>4.08</td>\n",
       "      <td>22.45</td>\n",
       "      <td>5.42</td>\n",
       "      <td>2020</td>\n",
       "      <td>180</td>\n",
       "      <td>2025</td>\n",
       "      <td>4.17</td>\n",
       "      <td>202.45</td>\n",
       "      <td>1.555752</td>\n",
       "      <td>0.20</td>\n",
       "      <td>9.24</td>\n",
       "    </tr>\n",
       "    <tr>\n",
       "      <th>2020-06-03</th>\n",
       "      <td>133.2068</td>\n",
       "      <td>3.84</td>\n",
       "      <td>23.47</td>\n",
       "      <td>5.42</td>\n",
       "      <td>2020</td>\n",
       "      <td>180</td>\n",
       "      <td>2025</td>\n",
       "      <td>4.07</td>\n",
       "      <td>203.47</td>\n",
       "      <td>1.527475</td>\n",
       "      <td>0.20</td>\n",
       "      <td>8.84</td>\n",
       "    </tr>\n",
       "  </tbody>\n",
       "</table>\n",
       "</div>"
      ],
      "text/plain": [
       "            lot_cost  lot_div  div_total  fwd_div  lot_year  price  \\\n",
       "date                                                                 \n",
       "2025-02-06  145.4584     5.44       0.00     5.42      2025    180   \n",
       "2025-01-16  145.8352     5.44       0.00     5.42      2025    180   \n",
       "2021-02-26  130.7200     4.08      20.40     5.42      2021    180   \n",
       "2020-06-15  128.0600     4.08      22.45     5.42      2020    180   \n",
       "2020-06-11  130.1300     4.08      22.45     5.42      2020    180   \n",
       "2020-06-03  133.2068     3.84      23.47     5.42      2020    180   \n",
       "\n",
       "            current_year   yoc  end_total  end_begin  period   cagr  \n",
       "date                                                                 \n",
       "2025-02-06          2025  3.73     180.00   1.237467     inf    inf  \n",
       "2025-01-16          2025  3.72     180.00   1.234270     inf    inf  \n",
       "2021-02-26          2025  4.15     200.40   1.533048    0.25  11.27  \n",
       "2020-06-15          2025  4.23     202.45   1.580900    0.20   9.59  \n",
       "2020-06-11          2025  4.17     202.45   1.555752    0.20   9.24  \n",
       "2020-06-03          2025  4.07     203.47   1.527475    0.20   8.84  "
      ]
     },
     "execution_count": 2,
     "metadata": {},
     "output_type": "execute_result"
    }
   ],
   "source": [
    "lots_df['fwd_div'] = fwd_div\n",
    "lots_df['lot_year'] = lots_df.index.year\n",
    "lots_df['price'] = stock_price\n",
    "lots_df['current_year'] = aesop.aesop_now.year\n",
    "lots_df['yoc'] = round((lots_df['fwd_div'] / lots_df['lot_cost']) * 100, 2)\n",
    "lots_df['end_total'] = lots_df['price'] + lots_df['div_total']\n",
    "lots_df['end_begin'] = lots_df['end_total'] / lots_df['lot_cost']\n",
    "lots_df['period'] = 1 / (lots_df['current_year'] - lots_df['lot_year'])\n",
    "lots_df['cagr'] = round(((lots_df['end_begin'] ** lots_df['period']) - 1) * 100, 2)\n",
    "lots_df"
   ]
  },
  {
   "cell_type": "code",
   "execution_count": null,
   "metadata": {
    "collapsed": false,
    "jupyter": {
     "outputs_hidden": false
    },
    "pycharm": {
     "name": "#%%\n"
    }
   },
   "outputs": [],
   "source": [
    "\n",
    "\n"
   ]
  }
 ],
 "metadata": {
  "kernelspec": {
   "display_name": "Python 3 (ipykernel)",
   "language": "python",
   "name": "python3"
  },
  "language_info": {
   "codemirror_mode": {
    "name": "ipython",
    "version": 3
   },
   "file_extension": ".py",
   "mimetype": "text/x-python",
   "name": "python",
   "nbconvert_exporter": "python",
   "pygments_lexer": "ipython3",
   "version": "3.9.6"
  }
 },
 "nbformat": 4,
 "nbformat_minor": 4
}
