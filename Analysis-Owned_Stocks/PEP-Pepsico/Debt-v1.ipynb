{
 "cells": [
  {
   "cell_type": "markdown",
   "source": [
    "# Debt Analysis - Version 1.0"
   ],
   "metadata": {
    "collapsed": false,
    "pycharm": {
     "name": "#%% md\n"
    }
   }
  },
  {
   "cell_type": "code",
   "execution_count": null,
   "outputs": [],
   "source": [
    "%%capture\n",
    "\n",
    "import pandas as pd\n",
    "import plotly.express as px\n",
    "import aesoppy.aesop as aesop\n",
    "import os\n",
    "\n",
    "# Comon Variables\n",
    "data = os.path.join(os.getcwd(), 'data')\n",
    "\n",
    "# DataFrames\n",
    "fin_df = pd.read_csv(os.path.join(data, 'financials.csv'), index_col='fiscal_year')\n",
    "debt_df = aesop.Debt(financials_df=fin_df).debt_df\n"
   ],
   "metadata": {
    "collapsed": false,
    "pycharm": {
     "name": "#%%\n"
    }
   }
  },
  {
   "cell_type": "code",
   "execution_count": null,
   "outputs": [],
   "source": [
    "debt_df.sort_index(ascending=False)"
   ],
   "metadata": {
    "collapsed": false,
    "pycharm": {
     "name": "#%%\n"
    }
   }
  },
  {
   "cell_type": "code",
   "execution_count": null,
   "outputs": [],
   "source": [
    "# Reduce to 20 years\n",
    "for index, row in debt_df.iterrows():\n",
    "    if aesop.aesop_now.year - index >= 21:\n",
    "        debt_df.drop(index, inplace=True)"
   ],
   "metadata": {
    "collapsed": false,
    "pycharm": {
     "name": "#%%\n"
    }
   }
  },
  {
   "cell_type": "code",
   "execution_count": null,
   "outputs": [],
   "source": [
    "debt_df.sort_index(ascending=False)"
   ],
   "metadata": {
    "collapsed": false,
    "pycharm": {
     "name": "#%%\n"
    }
   }
  },
  {
   "cell_type": "markdown",
   "source": [
    "## Current Ratio"
   ],
   "metadata": {
    "collapsed": false,
    "pycharm": {
     "name": "#%% md\n"
    }
   }
  },
  {
   "cell_type": "code",
   "execution_count": null,
   "outputs": [],
   "source": [
    "current_df = pd.DataFrame(debt_df[['current_assets', 'current_liabilities']], index=debt_df.index)\n",
    "current_df['current_ratio'] = current_df['current_assets'] / current_df['current_liabilities']\n",
    "current_df"
   ],
   "metadata": {
    "collapsed": false,
    "pycharm": {
     "name": "#%%\n"
    }
   }
  },
  {
   "cell_type": "code",
   "execution_count": null,
   "outputs": [],
   "source": [
    "current_fig1 = px.line(current_df, x=current_df.index, y=['current_ratio'], color_discrete_sequence=['blue'])\n",
    "current_fig1.show()"
   ],
   "metadata": {
    "collapsed": false,
    "pycharm": {
     "name": "#%%\n"
    }
   }
  },
  {
   "cell_type": "markdown",
   "source": [
    "## Debt/Cash Coverage & Pay Down"
   ],
   "metadata": {
    "collapsed": false,
    "pycharm": {
     "name": "#%% md\n"
    }
   }
  },
  {
   "cell_type": "code",
   "execution_count": null,
   "outputs": [],
   "source": [
    "cash_df = pd.DataFrame(debt_df[['cash_equivalents', 'market_securities', 'treasury_stock', 'current_assets',\n",
    "                               'current_liabilities', 'long_liabilities', 'short_debt']], index=debt_df.index)\n",
    "cash_df['cash_on_hand'] = cash_df['cash_equivalents'] + cash_df['market_securities'] - cash_df['treasury_stock']\n",
    "cash_df['short_debt_coverage'] =  cash_df['short_debt'] / cash_df['cash_on_hand']\n",
    "cash_df['total_debt_coverage'] =  (cash_df['current_liabilities'] + cash_df['long_liabilities']) / cash_df['cash_on_hand']\n",
    "cash_df"
   ],
   "metadata": {
    "collapsed": false,
    "pycharm": {
     "name": "#%%\n"
    }
   }
  },
  {
   "cell_type": "code",
   "execution_count": null,
   "outputs": [],
   "source": [
    "cash_df = px.bar(cash_df, x=cash_df.index, y=['short_debt_coverage', 'total_debt_coverage'], barmode='group', color_discrete_sequence=['blue', 'red'])\n",
    "cash_df.show()"
   ],
   "metadata": {
    "collapsed": false,
    "pycharm": {
     "name": "#%%\n"
    }
   }
  },
  {
   "cell_type": "markdown",
   "source": [
    "## Debt/FCF"
   ],
   "metadata": {
    "collapsed": false,
    "pycharm": {
     "name": "#%% md\n"
    }
   }
  },
  {
   "cell_type": "code",
   "execution_count": null,
   "outputs": [],
   "source": [
    "fcf_df = pd.DataFrame(debt_df[['cash_from_ops', 'cash_for_dividends', 'free_cash_flow',\n",
    "                               'current_liabilities', 'long_liabilities', 'short_debt']], index=debt_df.index)\n",
    "fcf_df['adj_fcf'] = fcf_df['free_cash_flow'] - fcf_df['cash_for_dividends']\n",
    "fcf_df['debt_fcf'] =  (fcf_df['current_liabilities'] + fcf_df['long_liabilities']) / fcf_df['adj_fcf']\n",
    "fcf_df['debt_cfo'] =  (fcf_df['current_liabilities'] + fcf_df['long_liabilities']) / fcf_df['cash_from_ops']\n",
    "fcf_df"
   ],
   "metadata": {
    "collapsed": false,
    "pycharm": {
     "name": "#%%\n"
    }
   }
  },
  {
   "cell_type": "markdown",
   "source": [
    "## Debt/Revenue Margins & Growth"
   ],
   "metadata": {
    "collapsed": false,
    "pycharm": {
     "name": "#%% md\n"
    }
   }
  },
  {
   "cell_type": "code",
   "execution_count": null,
   "outputs": [],
   "source": [
    "rev_df = pd.DataFrame(debt_df[['revenue', 'current_liabilities', 'long_liabilities']], index=debt_df.index)\n",
    "rev_df['debt_total'] = fcf_df['current_liabilities'] + fcf_df['long_liabilities']\n",
    "rev_df['debt_margin'] = rev_df['debt_total'] / rev_df['revenue']\n",
    "rev_df['debtgro'] = round(rev_df['debt_total'].pct_change() * 100, 2)\n",
    "rev_df"
   ],
   "metadata": {
    "collapsed": false,
    "pycharm": {
     "name": "#%%\n"
    }
   }
  },
  {
   "cell_type": "markdown",
   "source": [],
   "metadata": {
    "collapsed": false,
    "pycharm": {
     "name": "#%% md\n"
    }
   }
  }
 ],
 "metadata": {
  "kernelspec": {
   "display_name": "Python 3",
   "language": "python",
   "name": "python3"
  },
  "language_info": {
   "codemirror_mode": {
    "name": "ipython",
    "version": 2
   },
   "file_extension": ".py",
   "mimetype": "text/x-python",
   "name": "python",
   "nbconvert_exporter": "python",
   "pygments_lexer": "ipython2",
   "version": "2.7.6"
  }
 },
 "nbformat": 4,
 "nbformat_minor": 0
}