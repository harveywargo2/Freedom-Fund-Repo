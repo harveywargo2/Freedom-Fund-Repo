{
 "cells": [
  {
   "cell_type": "markdown",
   "metadata": {
    "collapsed": false,
    "jupyter": {
     "outputs_hidden": false
    },
    "pycharm": {
     "name": "#%% md\n"
    }
   },
   "source": [
    "# Lots - Version 1"
   ]
  },
  {
   "cell_type": "code",
   "execution_count": 1,
   "metadata": {
    "collapsed": false,
    "jupyter": {
     "outputs_hidden": false
    },
    "pycharm": {
     "name": "#%%\n"
    }
   },
   "outputs": [],
   "source": [
    "%%capture\n",
    "\n",
    "import pandas as pd\n",
    "import aesoppy.aesop as aesop\n",
    "import os\n",
    "\n",
    "# Comon Variables\n",
    "data = os.path.join(os.getcwd(), 'data')\n",
    "\n",
    "# DataFrames\n",
    "lots_df = pd.read_csv(os.path.join(data, 'lots.csv'))\n",
    "lots_df['date'] = pd.to_datetime(lots_df['date'], format='%m/%d/%y')\n",
    "lots_df.set_index('date', inplace=True)\n",
    "\n",
    "# Current Data\n",
    "stock_price = 409\n",
    "fwd_div = 3.32\n",
    "current_year = aesop.aesop_now.year\n",
    "\n"
   ]
  },
  {
   "cell_type": "code",
   "execution_count": 2,
   "metadata": {
    "collapsed": false,
    "jupyter": {
     "outputs_hidden": false
    },
    "pycharm": {
     "name": "#%%\n"
    }
   },
   "outputs": [
    {
     "data": {
      "text/html": [
       "<div>\n",
       "<style scoped>\n",
       "    .dataframe tbody tr th:only-of-type {\n",
       "        vertical-align: middle;\n",
       "    }\n",
       "\n",
       "    .dataframe tbody tr th {\n",
       "        vertical-align: top;\n",
       "    }\n",
       "\n",
       "    .dataframe thead th {\n",
       "        text-align: right;\n",
       "    }\n",
       "</style>\n",
       "<table border=\"1\" class=\"dataframe\">\n",
       "  <thead>\n",
       "    <tr style=\"text-align: right;\">\n",
       "      <th></th>\n",
       "      <th>lot_cost</th>\n",
       "      <th>lot_div</th>\n",
       "      <th>div_total</th>\n",
       "      <th>fwd_div</th>\n",
       "      <th>lot_year</th>\n",
       "      <th>price</th>\n",
       "      <th>current_year</th>\n",
       "      <th>yoc</th>\n",
       "      <th>end_total</th>\n",
       "      <th>end_begin</th>\n",
       "      <th>period</th>\n",
       "      <th>cagr</th>\n",
       "    </tr>\n",
       "    <tr>\n",
       "      <th>date</th>\n",
       "      <th></th>\n",
       "      <th></th>\n",
       "      <th></th>\n",
       "      <th></th>\n",
       "      <th></th>\n",
       "      <th></th>\n",
       "      <th></th>\n",
       "      <th></th>\n",
       "      <th></th>\n",
       "      <th></th>\n",
       "      <th></th>\n",
       "      <th></th>\n",
       "    </tr>\n",
       "  </thead>\n",
       "  <tbody>\n",
       "    <tr>\n",
       "      <th>2023-10-04</th>\n",
       "      <td>318.1100</td>\n",
       "      <td>2.72</td>\n",
       "      <td>6.02</td>\n",
       "      <td>3.32</td>\n",
       "      <td>2023</td>\n",
       "      <td>409</td>\n",
       "      <td>2025</td>\n",
       "      <td>1.04</td>\n",
       "      <td>415.02</td>\n",
       "      <td>1.304643</td>\n",
       "      <td>0.500000</td>\n",
       "      <td>14.22</td>\n",
       "    </tr>\n",
       "    <tr>\n",
       "      <th>2022-12-22</th>\n",
       "      <td>239.7600</td>\n",
       "      <td>2.72</td>\n",
       "      <td>7.38</td>\n",
       "      <td>3.32</td>\n",
       "      <td>2022</td>\n",
       "      <td>409</td>\n",
       "      <td>2025</td>\n",
       "      <td>1.38</td>\n",
       "      <td>416.38</td>\n",
       "      <td>1.736653</td>\n",
       "      <td>0.333333</td>\n",
       "      <td>20.20</td>\n",
       "    </tr>\n",
       "    <tr>\n",
       "      <th>2022-05-09</th>\n",
       "      <td>266.6060</td>\n",
       "      <td>2.48</td>\n",
       "      <td>10.98</td>\n",
       "      <td>3.32</td>\n",
       "      <td>2022</td>\n",
       "      <td>409</td>\n",
       "      <td>2025</td>\n",
       "      <td>1.25</td>\n",
       "      <td>419.98</td>\n",
       "      <td>1.575283</td>\n",
       "      <td>0.333333</td>\n",
       "      <td>16.36</td>\n",
       "    </tr>\n",
       "    <tr>\n",
       "      <th>2020-03-26</th>\n",
       "      <td>151.6152</td>\n",
       "      <td>2.04</td>\n",
       "      <td>13.20</td>\n",
       "      <td>3.32</td>\n",
       "      <td>2020</td>\n",
       "      <td>409</td>\n",
       "      <td>2025</td>\n",
       "      <td>2.19</td>\n",
       "      <td>422.20</td>\n",
       "      <td>2.784681</td>\n",
       "      <td>0.200000</td>\n",
       "      <td>22.73</td>\n",
       "    </tr>\n",
       "    <tr>\n",
       "      <th>2017-10-18</th>\n",
       "      <td>77.7890</td>\n",
       "      <td>1.56</td>\n",
       "      <td>17.66</td>\n",
       "      <td>3.32</td>\n",
       "      <td>2017</td>\n",
       "      <td>409</td>\n",
       "      <td>2025</td>\n",
       "      <td>4.27</td>\n",
       "      <td>426.66</td>\n",
       "      <td>5.484837</td>\n",
       "      <td>0.125000</td>\n",
       "      <td>23.71</td>\n",
       "    </tr>\n",
       "  </tbody>\n",
       "</table>\n",
       "</div>"
      ],
      "text/plain": [
       "            lot_cost  lot_div  div_total  fwd_div  lot_year  price  \\\n",
       "date                                                                 \n",
       "2023-10-04  318.1100     2.72       6.02     3.32      2023    409   \n",
       "2022-12-22  239.7600     2.72       7.38     3.32      2022    409   \n",
       "2022-05-09  266.6060     2.48      10.98     3.32      2022    409   \n",
       "2020-03-26  151.6152     2.04      13.20     3.32      2020    409   \n",
       "2017-10-18   77.7890     1.56      17.66     3.32      2017    409   \n",
       "\n",
       "            current_year   yoc  end_total  end_begin    period   cagr  \n",
       "date                                                                   \n",
       "2023-10-04          2025  1.04     415.02   1.304643  0.500000  14.22  \n",
       "2022-12-22          2025  1.38     416.38   1.736653  0.333333  20.20  \n",
       "2022-05-09          2025  1.25     419.98   1.575283  0.333333  16.36  \n",
       "2020-03-26          2025  2.19     422.20   2.784681  0.200000  22.73  \n",
       "2017-10-18          2025  4.27     426.66   5.484837  0.125000  23.71  "
      ]
     },
     "execution_count": 2,
     "metadata": {},
     "output_type": "execute_result"
    }
   ],
   "source": [
    "lots_df['fwd_div'] = fwd_div\n",
    "lots_df['lot_year'] = lots_df.index.year\n",
    "lots_df['price'] = stock_price\n",
    "lots_df['current_year'] = aesop.aesop_now.year\n",
    "lots_df['yoc'] = round((lots_df['fwd_div'] / lots_df['lot_cost']) * 100, 2)\n",
    "lots_df['end_total'] = lots_df['price'] + lots_df['div_total']\n",
    "lots_df['end_begin'] = lots_df['end_total'] / lots_df['lot_cost']\n",
    "lots_df['period'] = 1 / (lots_df['current_year'] - lots_df['lot_year'])\n",
    "lots_df['cagr'] = round(((lots_df['end_begin'] ** lots_df['period']) - 1) * 100, 2)\n",
    "lots_df"
   ]
  },
  {
   "cell_type": "code",
   "execution_count": null,
   "metadata": {
    "collapsed": false,
    "jupyter": {
     "outputs_hidden": false
    },
    "pycharm": {
     "name": "#%%\n"
    }
   },
   "outputs": [],
   "source": [
    "\n",
    "\n"
   ]
  }
 ],
 "metadata": {
  "kernelspec": {
   "display_name": "Python 3 (ipykernel)",
   "language": "python",
   "name": "python3"
  },
  "language_info": {
   "codemirror_mode": {
    "name": "ipython",
    "version": 3
   },
   "file_extension": ".py",
   "mimetype": "text/x-python",
   "name": "python",
   "nbconvert_exporter": "python",
   "pygments_lexer": "ipython3",
   "version": "3.9.6"
  }
 },
 "nbformat": 4,
 "nbformat_minor": 4
}
