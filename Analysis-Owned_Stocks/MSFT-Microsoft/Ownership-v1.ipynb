{
 "cells": [
  {
   "cell_type": "markdown",
   "source": [
    "# Ownership - Version 1"
   ],
   "metadata": {
    "collapsed": false,
    "pycharm": {
     "name": "#%% md\n"
    }
   }
  },
  {
   "cell_type": "code",
   "execution_count": null,
   "outputs": [],
   "source": [
    "%%capture\n",
    "\n",
    "import pandas as pd\n",
    "import plotly.express as px\n",
    "import aesoppy.aesop as aesop\n",
    "import os\n",
    "\n",
    "# Comon Variables\n",
    "data = os.path.join(os.getcwd(), 'data')\n",
    "\n",
    "# DataFrames\n",
    "fin_df = pd.read_csv(os.path.join(data, 'financials.csv'), index_col='fiscal_year')\n",
    "owners_df = aesop.Owners(financials_df=fin_df).owners_df"
   ],
   "metadata": {
    "collapsed": false,
    "pycharm": {
     "name": "#%%\n"
    }
   }
  },
  {
   "cell_type": "code",
   "execution_count": null,
   "outputs": [],
   "source": [
    "# Reduce Dataframe Index By year\n",
    "for index, row in owners_df.iterrows():\n",
    "    if aesop.aesop_now.year - index >= 21:\n",
    "        owners_df.drop(index, inplace=True)\n",
    "\n",
    "owners_df"
   ],
   "metadata": {
    "collapsed": false,
    "pycharm": {
     "name": "#%%\n"
    }
   }
  },
  {
   "cell_type": "markdown",
   "source": [
    "## Share Growth/Decrease"
   ],
   "metadata": {
    "collapsed": false,
    "pycharm": {
     "name": "#%% md\n"
    }
   }
  },
  {
   "cell_type": "code",
   "execution_count": null,
   "outputs": [],
   "source": [
    "share_df = pd.DataFrame(owners_df[['shares_outstanding_eop', 'shares_outstanding_diluted']], index=owners_df.index)\n",
    "share_df['sharegro_eop'] = share_df['shares_outstanding_eop'].pct_change()\n",
    "share_df['sharegro_eop'] = round(share_df['sharegro_eop'] * 100, 2)\n",
    "share_df['sharegro_diluted'] = share_df['shares_outstanding_diluted'].pct_change()\n",
    "share_df['sharegro_diluted'] = round(share_df['sharegro_diluted'] * 100, 2)\n",
    "share_df"
   ],
   "metadata": {
    "collapsed": false,
    "pycharm": {
     "name": "#%%\n"
    }
   }
  },
  {
   "cell_type": "code",
   "execution_count": null,
   "outputs": [],
   "source": [
    "share_fig1 = px.line(share_df, x=share_df.index, y=['shares_outstanding_eop', 'shares_outstanding_diluted'], color_discrete_sequence=['blue', 'yellow'])\n",
    "share_fig1.show()"
   ],
   "metadata": {
    "collapsed": false,
    "pycharm": {
     "name": "#%%\n"
    }
   }
  },
  {
   "cell_type": "markdown",
   "source": [
    "## Owners Return"
   ],
   "metadata": {
    "collapsed": false,
    "pycharm": {
     "name": "#%% md\n"
    }
   }
  },
  {
   "cell_type": "code",
   "execution_count": null,
   "outputs": [],
   "source": [
    "return_df = pd.DataFrame(owners_df[['cash_from_ops', 'cash_for_dividends', 'stock_buyback', 'stock_issues']], index=owners_df.index)\n",
    "return_df['stock_total'] = return_df['stock_buyback'] + return_df['stock_issues']\n",
    "return_df['owners_total'] = (return_df['cash_for_dividends'] + return_df['stock_total']).abs()\n",
    "return_df['owners_return'] = round((return_df['owners_total'] / return_df['cash_from_ops']) * 100, 2)\n",
    "return_df['buyback_total'] = return_df['stock_total'].abs()\n",
    "return_df['dividends_paid'] = return_df['cash_for_dividends'].abs()\n",
    "\n",
    "return_df"
   ],
   "metadata": {
    "collapsed": false,
    "pycharm": {
     "name": "#%%\n"
    }
   }
  },
  {
   "cell_type": "code",
   "execution_count": null,
   "outputs": [],
   "source": [
    "fig1 = px.bar(return_df, x=return_df.index, y=['buyback_total', 'dividends_paid', 'cash_from_ops'],\n",
    "              barmode='group', color_discrete_sequence=['blue', 'yellow', 'green'])\n",
    "fig1.show()"
   ],
   "metadata": {
    "collapsed": false,
    "pycharm": {
     "name": "#%%\n"
    }
   }
  },
  {
   "cell_type": "code",
   "execution_count": null,
   "outputs": [],
   "source": [],
   "metadata": {
    "collapsed": false,
    "pycharm": {
     "name": "#%%\n"
    }
   }
  }
 ],
 "metadata": {
  "kernelspec": {
   "display_name": "Python 3",
   "language": "python",
   "name": "python3"
  },
  "language_info": {
   "codemirror_mode": {
    "name": "ipython",
    "version": 2
   },
   "file_extension": ".py",
   "mimetype": "text/x-python",
   "name": "python",
   "nbconvert_exporter": "python",
   "pygments_lexer": "ipython2",
   "version": "2.7.6"
  }
 },
 "nbformat": 4,
 "nbformat_minor": 0
}