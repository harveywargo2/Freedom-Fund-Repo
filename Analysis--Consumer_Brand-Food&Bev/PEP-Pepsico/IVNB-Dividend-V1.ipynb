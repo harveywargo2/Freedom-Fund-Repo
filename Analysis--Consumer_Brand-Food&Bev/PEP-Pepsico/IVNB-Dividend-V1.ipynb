{
 "cells": [
  {
   "metadata": {},
   "cell_type": "markdown",
   "source": "# Intrinsic Value Note Book - Dividend - Version 1",
   "id": "668364446b8860ec"
  },
  {
   "metadata": {},
   "cell_type": "code",
   "source": [
    "%%capture\n",
    "\n",
    "import pandas as pd\n",
    "import plotly.express as px\n",
    "import plotly.graph_objects as go\n",
    "import os\n",
    "from aesop.dyt import (DividendYieldTheory, DytFwdProjections)\n",
    "import datetime\n",
    "import warnings\n",
    "\n",
    "\n",
    "# Comon Variables\n",
    "data = os.path.join(os.getcwd(), 'dumps')\n",
    "dt_now = datetime.datetime.now()\n",
    "mask10 = dt_now.year - 10\n",
    "\n",
    "\n",
    "# Suppress the warning globally\n",
    "warnings.filterwarnings('ignore', category=pd.errors.SettingWithCopyWarning)\n",
    "\n",
    "\n",
    "# Dataframe Import\n",
    "div_df = pd.read_csv(os.path.join(data, 'guru-div.csv'), index_col='ex_date')\n",
    "price_df = pd.read_csv(os.path.join(data, 'guru-price.csv'), index_col='date')\n",
    "value_df = pd.read_csv(os.path.join(data, 'guru-value.csv'), index_col='fiscal_year')\n",
    "fin_df = pd.read_csv(os.path.join(data, 'guru-fin.csv'), index_col='fiscal_year')\n",
    "data0 = DividendYieldTheory(div_df=div_df, price_df=price_df, lookback=21, div_frequency=4)\n",
    "\n",
    "\n",
    "\n",
    "# Pivot Variables\n",
    "pivot0 = 3.1\n",
    "pivot1 = pivot0\n",
    "pivot10 = round((pivot1 * .10) + pivot1, 2)\n",
    "pivot20 = round((pivot1 * .20) + pivot1, 2)"
   ],
   "id": "f606dd3b873ae35a",
   "outputs": [],
   "execution_count": null
  },
  {
   "metadata": {},
   "cell_type": "markdown",
   "source": [
    "#### Aggregated Dividend & Price Data\n",
    "- Establish Dividend Initial Yield Pivot Point\n",
    "- Price Spread\n",
    "- Div Yield Spread\n",
    "- Div Yields Means & Medians\n",
    "- Data Table\n",
    "- Bar Chart of Yield M&Ms With Yield Spread\n"
   ],
   "id": "263dce75bf11dd20"
  },
  {
   "metadata": {},
   "cell_type": "code",
   "source": [
    "data1 = data0.dyt_aggr_df\n",
    "data1"
   ],
   "id": "eaa4a7c406a85d98",
   "outputs": [],
   "execution_count": null
  },
  {
   "metadata": {},
   "cell_type": "code",
   "source": [
    "fig1 = px.bar(data1, x=data1.index, y=['div_yield_mean', 'div_yield_median'],\n",
    "              barmode='group',\n",
    "              color_discrete_sequence=['blue', 'green'])\n",
    "fig1.add_hline(y=pivot0, line_color='yellow')\n",
    "fig1.add_trace(go.Scatter(x=data1.index, y=data1['yield_spread'],\n",
    "                          name='yield_spread',\n",
    "                          mode='lines+markers',\n",
    "                          line=dict(color='white')))\n",
    "fig1.update_layout(yaxis_title='Yield %', xaxis_title='Date')\n",
    "fig1.show()"
   ],
   "id": "9c552435134c2939",
   "outputs": [],
   "execution_count": null
  },
  {
   "metadata": {},
   "cell_type": "markdown",
   "source": [
    "#### Historical Yield\n",
    "- Validate Dividend Pivot Point\n",
    "- Dividend Yield Graphs fo 20/10/5/3 Years\n",
    "- Rolling 30 Mean & Median Yield for 20/10/5/3 Year\n",
    "\n"
   ],
   "id": "f4f4c2722aae0abb"
  },
  {
   "metadata": {},
   "cell_type": "code",
   "source": [
    "data2 = data0.dyt_df\n",
    "data2['div_yield'] = round(data2['dividend_yield_fwd'] * 100, 1)\n",
    "fig2 = px.line(data2, x=data2.index, y='div_yield',\n",
    "               title='20 Year Div Yield')\n",
    "fig2.update_traces(line_color='blue')\n",
    "fig2.add_hline(y=pivot1,\n",
    "               line=dict(color='red', dash='dash', width=1),\n",
    "               annotation=dict(text=pivot1, xanchor='right'))\n",
    "fig2.add_hline(y=pivot10,\n",
    "               line=dict(color='yellow', dash='dash', width=1),\n",
    "               annotation=dict(text=pivot10, xanchor='right'))\n",
    "fig2.add_hline(y=pivot20,\n",
    "               line=dict(color='green', dash='dash', width=1),\n",
    "               annotation=dict(text=pivot20, xanchor='right'))\n",
    "fig2.update_layout(yaxis_title='Yield %', xaxis_title='Date')\n",
    "fig2.show()"
   ],
   "id": "502652282fc010d3",
   "outputs": [],
   "execution_count": null
  },
  {
   "metadata": {},
   "cell_type": "code",
   "source": [
    "data3 = data2.loc[data2.index.year > (dt_now.year - 10), :]\n",
    "fig3 = px.line(data3, x=data3.index, y='div_yield',\n",
    "               title='10 Year Div Yield')\n",
    "fig3.update_traces(line_color='blue')\n",
    "fig3.add_hline(y=pivot1,\n",
    "               line=dict(color='red', dash='dash', width=1),\n",
    "               annotation=dict(text=pivot1, xanchor='right'))\n",
    "fig3.add_hline(y=pivot10,\n",
    "               line=dict(color='yellow', dash='dash', width=1),\n",
    "               annotation=dict(text=pivot10, xanchor='right'))\n",
    "fig3.add_hline(y=pivot20,\n",
    "               line=dict(color='green', dash='dash', width=1),\n",
    "               annotation=dict(text=pivot20, xanchor='right'))\n",
    "fig3.update_layout(yaxis_title='Yield %', xaxis_title='Date')\n",
    "fig3.show()"
   ],
   "id": "4e05c4148291fa56",
   "outputs": [],
   "execution_count": null
  },
  {
   "metadata": {},
   "cell_type": "code",
   "source": [
    "data4 = data2.loc[data2.index.year > (dt_now.year - 5), :]\n",
    "fig4 = px.line(data4, x=data4.index, y='div_yield',\n",
    "               title='5 Year Div Yield')\n",
    "fig4.update_traces(line_color='blue')\n",
    "fig4.add_hline(y=pivot1,\n",
    "               line=dict(color='red', dash='dash', width=1),\n",
    "               annotation=dict(text=pivot1, xanchor='right'))\n",
    "fig4.add_hline(y=pivot10,\n",
    "               line=dict(color='yellow', dash='dash', width=1),\n",
    "               annotation=dict(text=pivot10, xanchor='right'))\n",
    "fig4.add_hline(y=pivot20,\n",
    "               line=dict(color='green', dash='dash', width=1),\n",
    "               annotation=dict(text=pivot20, xanchor='right'))\n",
    "fig4.update_layout(yaxis_title='Yield %', xaxis_title='Date')\n",
    "fig4.show()"
   ],
   "id": "3cf36143b397f774",
   "outputs": [],
   "execution_count": null
  },
  {
   "metadata": {},
   "cell_type": "code",
   "source": [
    "data5 = data2.loc[data2.index.year > (dt_now.year - 3), :]\n",
    "fig5 = px.line(data5, x=data5.index, y='div_yield',\n",
    "               title='3 Year Div Yield')\n",
    "fig5.update_traces(line_color='blue')\n",
    "fig5.add_hline(y=pivot1,\n",
    "               line=dict(color='red', dash='dash', width=1),\n",
    "               annotation=dict(text=pivot1, xanchor='right'))\n",
    "fig5.add_hline(y=pivot10,\n",
    "               line=dict(color='yellow', dash='dash', width=1),\n",
    "               annotation=dict(text=pivot10, xanchor='right'))\n",
    "fig5.add_hline(y=pivot20,\n",
    "               line=dict(color='green', dash='dash', width=1),\n",
    "               annotation=dict(text=pivot20, xanchor='right'))\n",
    "fig5.update_layout(yaxis_title='Yield %', xaxis_title='Date')\n",
    "fig5.show()"
   ],
   "id": "15f24f376f1e8409",
   "outputs": [],
   "execution_count": null
  },
  {
   "metadata": {},
   "cell_type": "code",
   "source": [
    "series1 = round(data2['div_yield'].rolling(window=30).mean().dropna(), 2)\n",
    "series2 = round(data2['div_yield'].rolling(window=30).median().dropna(), 2)\n",
    "series1 = series1.rename('mean_yield')\n",
    "series2 = series2.rename('median_yield')\n",
    "data6 = pd.concat([series1, series2], axis=1)\n",
    "fig6 = px.line(data6, x=data6.index, y=['mean_yield', 'median_yield'],\n",
    "               title='20 Year R30 M&M Yield',\n",
    "               color_discrete_sequence=['blue', 'purple'])\n",
    "fig6.add_hline(y=pivot1,\n",
    "               line=dict(color='red', dash='dash', width=1),\n",
    "               annotation=dict(text=pivot1, xanchor='right'))\n",
    "fig6.add_hline(y=pivot10,\n",
    "               line=dict(color='yellow', dash='dash', width=1),\n",
    "               annotation=dict(text=pivot10, xanchor='right'))\n",
    "fig6.add_hline(y=pivot20,\n",
    "               line=dict(color='green', dash='dash', width=1),\n",
    "               annotation=dict(text=pivot20, xanchor='right'))\n",
    "fig6.update_layout(yaxis_title='Yield %', xaxis_title='Date')\n",
    "fig6.show()"
   ],
   "id": "a080ebebcf8319b6",
   "outputs": [],
   "execution_count": null
  },
  {
   "metadata": {},
   "cell_type": "code",
   "source": [
    "series3 = round(data3['div_yield'].rolling(window=30).mean().dropna(), 2)\n",
    "series4 = round(data3['div_yield'].rolling(window=30).median().dropna(), 2)\n",
    "series3 = series3.rename('mean_yield')\n",
    "series4 = series4.rename('median_yield')\n",
    "data7 = pd.concat([series3, series4], axis=1)\n",
    "fig7 = px.line(data7, x=data7.index, y=['mean_yield', 'median_yield'],\n",
    "               title='10 Year R30 M&M Yield',\n",
    "               color_discrete_sequence=['blue', 'purple'])\n",
    "fig7.add_hline(y=pivot1,\n",
    "               line=dict(color='red', dash='dash', width=1),\n",
    "               annotation=dict(text=pivot1, xanchor='right'))\n",
    "fig7.add_hline(y=pivot10,\n",
    "               line=dict(color='yellow', dash='dash', width=1),\n",
    "               annotation=dict(text=pivot10, xanchor='right'))\n",
    "fig7.add_hline(y=pivot20,\n",
    "               line=dict(color='green', dash='dash', width=1),\n",
    "               annotation=dict(text=pivot20, xanchor='right'))\n",
    "fig7.update_layout(yaxis_title='Yield %', xaxis_title='Date')\n",
    "fig7.show()"
   ],
   "id": "b92e164a5581e2ac",
   "outputs": [],
   "execution_count": null
  },
  {
   "metadata": {},
   "cell_type": "code",
   "source": [
    "series5 = round(data4['div_yield'].rolling(window=30).mean().dropna(), 2)\n",
    "series6 = round(data4['div_yield'].rolling(window=30).median().dropna(), 2)\n",
    "series5 = series5.rename('mean_yield')\n",
    "series6 = series6.rename('median_yield')\n",
    "data8 = pd.concat([series5, series6], axis=1)\n",
    "fig8 = px.line(data8, x=data8.index, y=['mean_yield', 'median_yield'],\n",
    "               title='5 Year R30 M&M Yield',\n",
    "               color_discrete_sequence=['blue', 'purple'])\n",
    "fig8.add_hline(y=pivot1,\n",
    "               line=dict(color='red', dash='dash', width=1),\n",
    "               annotation=dict(text=pivot1, xanchor='right'))\n",
    "fig8.add_hline(y=pivot10,\n",
    "               line=dict(color='yellow', dash='dash', width=1),\n",
    "               annotation=dict(text=pivot10, xanchor='right'))\n",
    "fig8.add_hline(y=pivot20,\n",
    "               line=dict(color='green', dash='dash', width=1),\n",
    "               annotation=dict(text=pivot20, xanchor='right'))\n",
    "fig8.update_layout(yaxis_title='Yield %', xaxis_title='Date')\n",
    "fig8.show()"
   ],
   "id": "a0c87ce141c9feb3",
   "outputs": [],
   "execution_count": null
  },
  {
   "metadata": {},
   "cell_type": "code",
   "source": [
    "series7 = round(data5['div_yield'].rolling(window=30).mean().dropna(), 2)\n",
    "series8 = round(data5['div_yield'].rolling(window=30).median().dropna(), 2)\n",
    "series7 = series7.rename('mean_yield')\n",
    "series8 = series8.rename('median_yield')\n",
    "data9 = pd.concat([series7, series8], axis=1)\n",
    "fig9 = px.line(data9, x=data9.index, y=['mean_yield', 'median_yield'],\n",
    "               title='3 Year R30 M&M Yield',\n",
    "               color_discrete_sequence=['blue', 'purple'])\n",
    "fig9.add_hline(y=pivot1,\n",
    "               line=dict(color='red', dash='dash', width=1),\n",
    "               annotation=dict(text=pivot1, xanchor='right'))\n",
    "fig9.add_hline(y=pivot10,\n",
    "               line=dict(color='yellow', dash='dash', width=1),\n",
    "               annotation=dict(text=pivot10, xanchor='right'))\n",
    "fig9.add_hline(y=pivot20,\n",
    "               line=dict(color='green', dash='dash', width=1),\n",
    "               annotation=dict(text=pivot20, xanchor='right'))\n",
    "fig9.update_layout(yaxis_title='Yield %', xaxis_title='Date')\n",
    "fig9.show()"
   ],
   "id": "821064a9da9b814b",
   "outputs": [],
   "execution_count": null
  },
  {
   "metadata": {},
   "cell_type": "markdown",
   "source": [
    "## Historical Dividend Growth\n",
    "- Calendar Year (CY)\n",
    "- Fiscal Year (FY)\n",
    "- PerShare Data"
   ],
   "id": "d862f20c5ab71eaf"
  },
  {
   "metadata": {},
   "cell_type": "code",
   "source": [
    "div_proj = 5.50\n",
    "\n",
    "# Calendar Year Data\n",
    "data10cy = data1['div_amount_cy']\n",
    "data10cy.name = 'div_cy'\n",
    "data10cy[2025] = div_proj\n",
    "data10cyg = data10cy.pct_change()\n",
    "data10cyg.name = 'divgro_cy'\n",
    "data10cyg = round(data10cyg * 100, 2)\n",
    "\n",
    "# Fiscal Year Data\n",
    "data10fy = value_df['pershare_dividends']\n",
    "data10fy.name = 'div_fy'\n",
    "data10fy = data10fy.tail(20)\n",
    "data10fy[2025] = div_proj\n",
    "data10fy = round(data10fy, 2)\n",
    "data10fyg = data10fy.pct_change()\n",
    "data10fyg.name = 'divgro_fy'\n",
    "data10fyg = round(data10fyg * 100, 2)\n",
    "\n",
    "data11 = pd.concat([data10cy, data10cyg, data10fy, data10fyg], axis=1)\n",
    "data11"
   ],
   "id": "a2abc30384210030",
   "outputs": [],
   "execution_count": null
  },
  {
   "metadata": {},
   "cell_type": "code",
   "source": [
    "fig11 = px.bar(data11, x=data11.index, y=['divgro_cy', 'divgro_fy'],\n",
    "               title='20 Year DivGro',\n",
    "               barmode='group',\n",
    "               color_discrete_sequence=['blue', 'red'])\n",
    "fig11.update_layout(yaxis_title='DivGro %', xaxis_title='Year')\n",
    "fig11.show()"
   ],
   "id": "1b4a1c20681d5293",
   "outputs": [],
   "execution_count": null
  },
  {
   "metadata": {},
   "cell_type": "code",
   "source": [
    "dgcy20 = round(data11['divgro_cy'].mean(), 2)\n",
    "dgcy10 = round(data11['divgro_cy'].tail(10).mean(), 2)\n",
    "dgcy5 = round(data11['divgro_cy'].tail(5).mean(), 2)\n",
    "dgcy3 = round(data11['divgro_cy'].tail(3).mean(), 2)\n",
    "\n",
    "dgfy20 = round(data11['divgro_fy'].mean(), 2)\n",
    "dgfy10 = round(data11['divgro_fy'].tail(10).mean(), 2)\n",
    "dgfy5 = round(data11['divgro_fy'].tail(5).mean(), 2)\n",
    "dgfy3 = round(data11['divgro_fy'].tail(3).mean(), 2)\n",
    "\n",
    "data12 = pd.DataFrame(columns=['period', 'mean_divgro_cy', 'divgro_fy'])\n",
    "data12.loc[0] = ['20 Years', dgcy20, dgfy20 ]\n",
    "data12.loc[1] = ['10 Years', dgcy10, dgfy10]\n",
    "data12.loc[2] = ['5 Years', dgcy5, dgfy5]\n",
    "data12.loc[3] = ['3 Years', dgcy3, dgfy3]\n",
    "\n",
    "data12\n"
   ],
   "id": "9ba7f67ab0ce567f",
   "outputs": [],
   "execution_count": null
  },
  {
   "metadata": {},
   "cell_type": "markdown",
   "source": [
    "#### Dividend Coverage\n",
    "- Total Company (10K)\n",
    "- FCF & Cash On Hand Ratios"
   ],
   "id": "a737ee5e61f24ec1"
  },
  {
   "metadata": {},
   "cell_type": "code",
   "source": [
    "data13 = fin_df[['revenue', 'cash_from_ops', 'free_cash_flow', 'cash_for_dividends', 'cash_equivalents',\n",
    "                 'market_securities', 'shares_outstanding_diluted']]\n",
    "\n",
    "data13['cash_on_hand'] = data13['cash_equivalents'] + data13['market_securities']\n",
    "data13.drop(columns=['cash_equivalents', 'market_securities'], inplace=True)\n",
    "data13['coh_ratio'] = round((data13['cash_for_dividends'].abs() / (data13['free_cash_flow'] + data13['cash_on_hand'])) * 100, 2)\n",
    "data13['fcf_ratio'] = round((data13['cash_for_dividends'].abs() / data13['free_cash_flow']) * 100, 2)\n",
    "\n",
    "data13 = data13.tail(20)\n",
    "data13"
   ],
   "id": "922982592bf0ba04",
   "outputs": [],
   "execution_count": null
  },
  {
   "metadata": {},
   "cell_type": "code",
   "source": [
    "fig13 = px.bar(data13, x=data13.index, y=['coh_ratio', 'fcf_ratio'],\n",
    "               title='20 Dividend Payout/Coverage',\n",
    "               barmode='group',\n",
    "               color_discrete_sequence=['blue', 'green'])\n",
    "fig13.update_layout(yaxis_title='Payout %', xaxis_title='Year')\n",
    "fig13.show()"
   ],
   "id": "37de7e9b2f8b6798",
   "outputs": [],
   "execution_count": null
  },
  {
   "metadata": {},
   "cell_type": "markdown",
   "source": "#### 10 Year Forward Projections\n",
   "id": "11fd86e0c0bc1eee"
  },
  {
   "metadata": {},
   "cell_type": "code",
   "source": [
    "data14 = DytFwdProjections(div_growth_rate=.06, projection_yrs=10, buy_yield=.037, pivot=.031, div_start=5.50, div_start_year=dt_now.year)\n",
    "data14.proj_df"
   ],
   "id": "5e56194f1b940325",
   "outputs": [],
   "execution_count": null
  },
  {
   "metadata": {},
   "cell_type": "markdown",
   "source": [
    "# Analysis Notes Markdown Notes\n",
    "\n",
    "## 03-2025\n",
    "- 3.1 Pivot\n",
    "- Uncertainty with Tariffs/Inflation/Rates\n",
    "- 3.7 % Yield in market"
   ],
   "id": "cfd7f599ad4d24e9"
  }
 ],
 "metadata": {
  "kernelspec": {
   "display_name": "Python 3",
   "language": "python",
   "name": "python3"
  },
  "language_info": {
   "codemirror_mode": {
    "name": "ipython",
    "version": 2
   },
   "file_extension": ".py",
   "mimetype": "text/x-python",
   "name": "python",
   "nbconvert_exporter": "python",
   "pygments_lexer": "ipython2",
   "version": "2.7.6"
  }
 },
 "nbformat": 4,
 "nbformat_minor": 5
}
