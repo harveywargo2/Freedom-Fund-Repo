{
 "cells": [
  {
   "cell_type": "markdown",
   "source": [
    "# Growth Analysis"
   ],
   "metadata": {
    "collapsed": false,
    "pycharm": {
     "name": "#%% md\n"
    }
   }
  },
  {
   "cell_type": "code",
   "execution_count": null,
   "outputs": [],
   "source": [
    "import pandas as pd\n",
    "import plotly.express as px\n",
    "import aesoppy.aesop as aesop\n",
    "import os\n",
    "\n",
    "# Comon Variables\n",
    "data = os.path.join(os.getcwd(), 'data')\n",
    "\n",
    "# DataFrames\n",
    "fin_df = pd.read_csv(os.path.join(data, 'financials.csv'), index_col='fiscal_year')\n",
    "growth = aesop.Growth(financials_df=fin_df).growth_df"
   ],
   "metadata": {
    "collapsed": false,
    "pycharm": {
     "name": "#%%\n"
    }
   }
  },
  {
   "cell_type": "code",
   "execution_count": null,
   "outputs": [],
   "source": [
    "growth['revgro'] = round(growth['revenue'].pct_change() * 100, 2)\n",
    "growth['netgro'] = round(growth['net_income'].pct_change() * 100, 2)\n",
    "growth['cfogro'] = round(growth['cash_from_ops'].pct_change() * 100, 2)\n",
    "growth['fcfgro'] = round(growth['free_cash_flow'].pct_change() * 100, 2)\n",
    "growth['capex'] = growth['capex'].abs()\n",
    "growth['capexgro'] = round(growth['capex'].pct_change() * 100, 2)\n",
    "\n",
    "growth"
   ],
   "metadata": {
    "collapsed": false,
    "pycharm": {
     "name": "#%%\n"
    }
   }
  },
  {
   "cell_type": "code",
   "execution_count": null,
   "outputs": [],
   "source": [
    "# Reduce Dataframe Index By year\n",
    "for index, row in growth.iterrows():\n",
    "    if aesop.aesop_now.year - index >= 21:\n",
    "        growth.drop(index, inplace=True)"
   ],
   "metadata": {
    "collapsed": false,
    "pycharm": {
     "name": "#%%\n"
    }
   }
  },
  {
   "cell_type": "markdown",
   "source": [
    "## Revenue Growth"
   ],
   "metadata": {
    "collapsed": false,
    "pycharm": {
     "name": "#%% md\n"
    }
   }
  },
  {
   "cell_type": "code",
   "execution_count": null,
   "outputs": [],
   "source": [
    "rev_fig_1 = px.bar(growth, x=growth.index, y=['revgro'], barmode='group', color_discrete_sequence=['blue'])\n",
    "rev_fig_1.show()"
   ],
   "metadata": {
    "collapsed": false,
    "pycharm": {
     "name": "#%%\n"
    }
   }
  },
  {
   "cell_type": "code",
   "execution_count": null,
   "outputs": [],
   "source": [
    "rev_fig_2 = px.line(growth, x=growth.index, y=['revenue'], color_discrete_sequence=['red'])\n",
    "rev_fig_2.show()"
   ],
   "metadata": {
    "collapsed": false,
    "pycharm": {
     "name": "#%%\n"
    }
   }
  },
  {
   "cell_type": "code",
   "execution_count": null,
   "outputs": [],
   "source": [
    "revgro_mean = round(growth['revgro'].tail(10).mean(), 2)\n",
    "print(f'The 10 year mean Revenue Growth is: {revgro_mean}%')\n",
    "print()"
   ],
   "metadata": {
    "collapsed": false,
    "pycharm": {
     "name": "#%%\n"
    }
   }
  },
  {
   "cell_type": "markdown",
   "source": [
    "## Net Income Growth"
   ],
   "metadata": {
    "collapsed": false,
    "pycharm": {
     "name": "#%% md\n"
    }
   }
  },
  {
   "cell_type": "code",
   "execution_count": null,
   "outputs": [],
   "source": [
    "inc_fig_1 = px.bar(growth, x=growth.index, y=['netgro'], barmode='group', color_discrete_sequence=['blue'])\n",
    "inc_fig_1.show()"
   ],
   "metadata": {
    "collapsed": false,
    "pycharm": {
     "name": "#%%\n"
    }
   }
  },
  {
   "cell_type": "code",
   "execution_count": null,
   "outputs": [],
   "source": [
    "inc_fig_2 = px.line(growth, x=growth.index, y=['net_income'], color_discrete_sequence=['red'])\n",
    "inc_fig_2.show()"
   ],
   "metadata": {
    "collapsed": false,
    "pycharm": {
     "name": "#%%\n"
    }
   }
  },
  {
   "cell_type": "code",
   "execution_count": null,
   "outputs": [],
   "source": [
    "netgro_mean = round(growth['netgro'].tail(10).mean(), 2)\n",
    "print(f'The 10 year mean Income Growth is: {netgro_mean}%')\n",
    "print()"
   ],
   "metadata": {
    "collapsed": false,
    "pycharm": {
     "name": "#%%\n"
    }
   }
  },
  {
   "cell_type": "markdown",
   "source": [
    "## Cash Flow"
   ],
   "metadata": {
    "collapsed": false,
    "pycharm": {
     "name": "#%% md\n"
    }
   }
  },
  {
   "cell_type": "code",
   "execution_count": null,
   "outputs": [],
   "source": [
    "cash_fig_1 = px.bar(growth, x=growth.index, y=['cfogro', 'fcfgro'], barmode='group', color_discrete_sequence=['blue', 'yellow'])\n",
    "cash_fig_1.show()"
   ],
   "metadata": {
    "collapsed": false,
    "pycharm": {
     "name": "#%%\n"
    }
   }
  },
  {
   "cell_type": "code",
   "execution_count": null,
   "outputs": [],
   "source": [
    "cash_fig_2 = px.line(growth, x=growth.index, y=['cash_from_ops', 'free_cash_flow'], color_discrete_sequence=['red', 'orange'])\n",
    "cash_fig_2.show()"
   ],
   "metadata": {
    "collapsed": false,
    "pycharm": {
     "name": "#%%\n"
    }
   }
  },
  {
   "cell_type": "code",
   "execution_count": null,
   "outputs": [],
   "source": [
    "cfogro_mean = round(growth['cfogro'].tail(10).mean(), 2)\n",
    "print(f'The 10 year mean Cash From Ops Growth is: {cfogro_mean}%')\n",
    "print()\n",
    "fcfgro_mean = round(growth['fcfgro'].tail(10).mean(), 2)\n",
    "print(f'The 10 year mean Free Cash Flow Growth is: {fcfgro_mean}%')\n",
    "print()"
   ],
   "metadata": {
    "collapsed": false,
    "pycharm": {
     "name": "#%%\n"
    }
   }
  },
  {
   "cell_type": "markdown",
   "source": [
    "## CAPEX"
   ],
   "metadata": {
    "collapsed": false,
    "pycharm": {
     "name": "#%% md\n"
    }
   }
  },
  {
   "cell_type": "code",
   "execution_count": null,
   "outputs": [],
   "source": [
    "capex_fig_1 = px.bar(growth, x=growth.index, y=['capexgro'], barmode='group', color_discrete_sequence=['blue'])\n",
    "capex_fig_1.show()"
   ],
   "metadata": {
    "collapsed": false,
    "pycharm": {
     "name": "#%%\n"
    }
   }
  },
  {
   "cell_type": "code",
   "execution_count": null,
   "outputs": [],
   "source": [
    "capex_fig_2 = px.line(growth, x=growth.index, y=['capex'], color_discrete_sequence=['red'])\n",
    "capex_fig_2.show()"
   ],
   "metadata": {
    "collapsed": false,
    "pycharm": {
     "name": "#%%\n"
    }
   }
  },
  {
   "cell_type": "code",
   "execution_count": null,
   "outputs": [],
   "source": [],
   "metadata": {
    "collapsed": false,
    "pycharm": {
     "name": "#%%\n"
    }
   }
  }
 ],
 "metadata": {
  "kernelspec": {
   "display_name": "Python 3",
   "language": "python",
   "name": "python3"
  },
  "language_info": {
   "codemirror_mode": {
    "name": "ipython",
    "version": 2
   },
   "file_extension": ".py",
   "mimetype": "text/x-python",
   "name": "python",
   "nbconvert_exporter": "python",
   "pygments_lexer": "ipython2",
   "version": "2.7.6"
  }
 },
 "nbformat": 4,
 "nbformat_minor": 0
}