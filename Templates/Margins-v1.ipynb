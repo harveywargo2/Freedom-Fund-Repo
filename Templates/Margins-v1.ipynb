{
 "cells": [
  {
   "cell_type": "markdown",
   "source": [
    "# Margins Analysis - Version 1"
   ],
   "metadata": {
    "collapsed": false,
    "pycharm": {
     "name": "#%% md\n"
    }
   }
  },
  {
   "cell_type": "code",
   "execution_count": null,
   "outputs": [],
   "source": [
    "%%capture\n",
    "\n",
    "import pandas as pd\n",
    "import plotly.express as px\n",
    "import aesoppy.aesop as aesop\n",
    "import os\n",
    "\n",
    "# Comon Variables\n",
    "data = os.path.join(os.getcwd(), 'data')\n",
    "\n",
    "# DataFrames\n",
    "fin_df = pd.read_csv(os.path.join(data, 'financials.csv'), index_col='fiscal_year')\n",
    "inc_df = aesop.Margins(financials_df=fin_df).income_margins_df\n",
    "cash_df = aesop.Margins(financials_df=fin_df).cash_margins_df\n",
    "cost_df = aesop.Margins(financials_df=fin_df).cost_margins_df"
   ],
   "metadata": {
    "collapsed": false,
    "pycharm": {
     "name": "#%%\n"
    }
   }
  },
  {
   "cell_type": "markdown",
   "source": [
    "## Income Statement Margins"
   ],
   "metadata": {
    "collapsed": false,
    "pycharm": {
     "name": "#%% md\n"
    }
   }
  },
  {
   "cell_type": "code",
   "execution_count": null,
   "outputs": [],
   "source": [
    "inc_df['gpm'] = round(inc_df['gross_margin'] * 100, 2)\n",
    "inc_df['opm'] = round(inc_df['operating_margin'] * 100, 2)\n",
    "inc_df['npm'] = round(inc_df['net_margin'] * 100, 2)\n",
    "inc_df"
   ],
   "metadata": {
    "collapsed": false,
    "pycharm": {
     "name": "#%%\n"
    }
   }
  },
  {
   "cell_type": "code",
   "execution_count": null,
   "outputs": [],
   "source": [
    "# Reduce Dataframe Index By year\n",
    "for index, row in inc_df.iterrows():\n",
    "    if aesop.aesop_now.year - index >= 21:\n",
    "        inc_df.drop(index, inplace=True)"
   ],
   "metadata": {
    "collapsed": false,
    "pycharm": {
     "name": "#%%\n"
    }
   }
  },
  {
   "cell_type": "code",
   "execution_count": null,
   "outputs": [],
   "source": [
    "inc_fig = px.bar(inc_df, x=inc_df.index, y=['gpm', 'opm', 'npm'], barmode='group', color_discrete_sequence=['blue', 'red', 'yellow'])\n",
    "inc_fig.show()"
   ],
   "metadata": {
    "collapsed": false,
    "pycharm": {
     "name": "#%%\n"
    }
   }
  },
  {
   "cell_type": "code",
   "execution_count": null,
   "outputs": [],
   "source": [
    "gpm_mean = round(inc_df['gpm'].tail(10).mean(), 2)\n",
    "print(f'The 10 year mean Gross Profit Margin is: {gpm_mean}%')\n",
    "print()\n",
    "opm_mean = round(inc_df['opm'].tail(10).mean(), 2)\n",
    "print(f'The 10 year mean Operating Profit Margin is: {opm_mean}%')\n",
    "print()\n",
    "npm_mean = round(inc_df['npm'].tail(10).mean(), 2)\n",
    "print(f'The 10 year mean Net Profit Margin is: {npm_mean}%')\n",
    "print()"
   ],
   "metadata": {
    "collapsed": false,
    "pycharm": {
     "name": "#%%\n"
    }
   }
  },
  {
   "cell_type": "markdown",
   "source": [
    "## Cash Margins"
   ],
   "metadata": {
    "collapsed": false,
    "pycharm": {
     "name": "#%% md\n"
    }
   }
  },
  {
   "cell_type": "code",
   "execution_count": null,
   "outputs": [],
   "source": [
    "cash_df['cfo'] = round(cash_df['cfo_margin'] * 100, 2)\n",
    "cash_df['fcf'] = round(cash_df['fcf_margin'] * 100, 2)\n",
    "cash_df"
   ],
   "metadata": {
    "collapsed": false,
    "pycharm": {
     "name": "#%%\n"
    }
   }
  },
  {
   "cell_type": "code",
   "execution_count": null,
   "outputs": [],
   "source": [
    "# Reduce Dataframe Index By year\n",
    "for index, row in cash_df.iterrows():\n",
    "    if aesop.aesop_now.year - index >= 21:\n",
    "        cash_df.drop(index, inplace=True)"
   ],
   "metadata": {
    "collapsed": false,
    "pycharm": {
     "name": "#%%\n"
    }
   }
  },
  {
   "cell_type": "code",
   "execution_count": null,
   "outputs": [],
   "source": [
    "cash_fig = px.bar(cash_df, x=cash_df.index, y=['cfo', 'fcf'], barmode='group', color_discrete_sequence=['blue', 'red'])\n",
    "cash_fig.show()"
   ],
   "metadata": {
    "collapsed": false,
    "pycharm": {
     "name": "#%%\n"
    }
   }
  },
  {
   "cell_type": "code",
   "execution_count": null,
   "outputs": [],
   "source": [
    "cfo_mean = round(cash_df['cfo'].tail(10).mean(), 2)\n",
    "print(f'The 10 year mean Cash From Operations Margin is: {cfo_mean}%')\n",
    "print()\n",
    "fcf_mean = round(cash_df['fcf'].tail(10).mean(), 2)\n",
    "print(f'The 10 year mean Free Cash Flow Margin is: {fcf_mean}%')\n",
    "print()"
   ],
   "metadata": {
    "collapsed": false,
    "pycharm": {
     "name": "#%%\n"
    }
   }
  },
  {
   "cell_type": "markdown",
   "source": [
    "## Cost Margins"
   ],
   "metadata": {
    "collapsed": false,
    "pycharm": {
     "name": "#%% md\n"
    }
   }
  },
  {
   "cell_type": "code",
   "execution_count": null,
   "outputs": [],
   "source": [
    "cost_df['cogs'] = round(cost_df['cogs_margin'] * 100, 2)\n",
    "cost_df['sga'] = round(cost_df['sga_margin'] * 100, 2)\n",
    "cost_df['rnd'] = round(cost_df['rnd_margin'] * 100, 2)\n",
    "cost_df['capex'] = round(cost_df['capex_margin'] * 100, 2)\n",
    "cost_df"
   ],
   "metadata": {
    "collapsed": false,
    "pycharm": {
     "name": "#%%\n"
    }
   }
  },
  {
   "cell_type": "code",
   "execution_count": null,
   "outputs": [],
   "source": [
    "# Reduce Dataframe Index By year\n",
    "for index, row in cost_df.iterrows():\n",
    "    if aesop.aesop_now.year - index >= 21:\n",
    "        cost_df.drop(index, inplace=True)"
   ],
   "metadata": {
    "collapsed": false,
    "pycharm": {
     "name": "#%%\n"
    }
   }
  },
  {
   "cell_type": "code",
   "execution_count": null,
   "outputs": [],
   "source": [
    "cost_fig_1 = px.bar(cost_df, x=cost_df.index, y=['cogs', 'capex'], barmode='group', color_discrete_sequence=['blue', 'red'])\n",
    "cost_fig_1.show()"
   ],
   "metadata": {
    "collapsed": false,
    "pycharm": {
     "name": "#%%\n"
    }
   }
  },
  {
   "cell_type": "code",
   "execution_count": null,
   "outputs": [],
   "source": [
    "cost_fig_2 = px.bar(cost_df, x=cost_df.index, y=['sga', 'rnd'], barmode='group', color_discrete_sequence=['blue', 'red'])\n",
    "cost_fig_2.show()"
   ],
   "metadata": {
    "collapsed": false,
    "pycharm": {
     "name": "#%%\n"
    }
   }
  },
  {
   "cell_type": "code",
   "execution_count": null,
   "outputs": [],
   "source": [
    "cogs_mean = round(cost_df['cogs'].tail(10).mean(), 2)\n",
    "print(f'The 10 year mean Cost of Goods Sold Margin is: {cogs_mean}%')\n",
    "print()\n",
    "capex_mean = round(cost_df['capex'].tail(10).mean(), 2)\n",
    "print(f'The 10 year mean CAPEX Margin is: {capex_mean}%')\n",
    "print()"
   ],
   "metadata": {
    "collapsed": false,
    "pycharm": {
     "name": "#%%\n"
    }
   }
  },
  {
   "cell_type": "code",
   "execution_count": null,
   "outputs": [],
   "source": [],
   "metadata": {
    "collapsed": false,
    "pycharm": {
     "name": "#%%\n"
    }
   }
  }
 ],
 "metadata": {
  "kernelspec": {
   "display_name": "Python 3",
   "language": "python",
   "name": "python3"
  },
  "language_info": {
   "codemirror_mode": {
    "name": "ipython",
    "version": 2
   },
   "file_extension": ".py",
   "mimetype": "text/x-python",
   "name": "python",
   "nbconvert_exporter": "python",
   "pygments_lexer": "ipython2",
   "version": "2.7.6"
  }
 },
 "nbformat": 4,
 "nbformat_minor": 0
}