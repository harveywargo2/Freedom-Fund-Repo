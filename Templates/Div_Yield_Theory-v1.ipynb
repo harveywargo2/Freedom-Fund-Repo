{
 "cells": [
  {
   "cell_type": "markdown",
   "source": [
    "# Dividend Yield Theory - Version 1"
   ],
   "metadata": {
    "collapsed": false,
    "pycharm": {
     "name": "#%% md\n"
    }
   }
  },
  {
   "cell_type": "code",
   "execution_count": null,
   "outputs": [],
   "source": [
    "%%capture\n",
    "\n",
    "import pandas as pd\n",
    "import plotly.express as px\n",
    "import aesoppy.aesop as aesop\n",
    "import os\n",
    "\n",
    "# Comon Variables\n",
    "data = os.path.join(os.getcwd(), 'data')\n",
    "\n",
    "# DataFrames\n",
    "div_df = pd.read_csv(os.path.join(data, 'dividend.csv'), index_col='ex_date')\n",
    "price_df = pd.read_csv(os.path.join(data, 'price.csv'), index_col='date')\n",
    "dyt_df_graph = aesop.DividendYieldTheory(dividend_df=div_df, price_df=price_df).div_yield_analysis_df\n",
    "dyt_df = aesop.DividendYieldTheory(dividend_df=div_df, price_df=price_df).div_yield_analysis_aggregate_df\n"
   ],
   "metadata": {
    "collapsed": false,
    "pycharm": {
     "name": "#%%\n"
    }
   }
  },
  {
   "cell_type": "markdown",
   "source": [
    "#### Show Aggregate Dividend Yield Data By Year"
   ],
   "metadata": {
    "collapsed": false,
    "pycharm": {
     "name": "#%% md\n"
    }
   }
  },
  {
   "cell_type": "code",
   "execution_count": null,
   "outputs": [],
   "source": [
    "dyt_df1 = dyt_df\n",
    "dyt_df1['div_yield_min'] = round(dyt_df['div_yield_min'] * 100, 2)\n",
    "dyt_df1['div_yield_max'] = round(dyt_df['div_yield_max'] * 100, 2)\n",
    "dyt_df1['div_yield_mean'] = round(dyt_df['div_yield_mean'] * 100, 2)\n",
    "dyt_df1['div_yield_median'] = round(dyt_df['div_yield_median'] * 100, 2)\n",
    "dyt_df1"
   ],
   "metadata": {
    "collapsed": false,
    "pycharm": {
     "name": "#%%\n"
    }
   }
  },
  {
   "cell_type": "markdown",
   "source": [
    "#### Graph of Dividend Yield Over Time"
   ],
   "metadata": {
    "collapsed": false,
    "pycharm": {
     "name": "#%% md\n"
    }
   }
  },
  {
   "cell_type": "code",
   "execution_count": null,
   "outputs": [],
   "source": [
    "dyt_df_graph['yield'] = round(dyt_df_graph['dividend_yield_fwd'] * 100, 1)\n",
    "dyt_df_graph\n"
   ],
   "metadata": {
    "collapsed": false,
    "pycharm": {
     "name": "#%%\n"
    }
   }
  },
  {
   "cell_type": "code",
   "execution_count": null,
   "outputs": [],
   "source": [
    "fwd_div_fig = px.line(dyt_df_graph, x=dyt_df_graph.index, y='yield', title='Dividend Yield Per Date')\n",
    "fwd_div_fig.update_traces(line_color='blue')\n",
    "fwd_div_fig.show()"
   ],
   "metadata": {
    "collapsed": false,
    "pycharm": {
     "name": "#%%\n"
    }
   }
  },
  {
   "cell_type": "markdown",
   "source": [
    "#### Dividend Means & Medians Calculations"
   ],
   "metadata": {
    "collapsed": false,
    "pycharm": {
     "name": "#%% md\n"
    }
   }
  },
  {
   "cell_type": "code",
   "execution_count": null,
   "outputs": [],
   "source": [
    "mm10_df = dyt_df_graph[dyt_df_graph.index.year > aesop.aesop_10]\n",
    "mm5_df = dyt_df_graph[dyt_df_graph.index.year > aesop.aesop_5]\n",
    "mm3_df = dyt_df_graph[dyt_df_graph.index.year > aesop.aesop_3]\n",
    "\n",
    "\n",
    "mm10_mean = round(mm10_df['yield'].mean(), 2)\n",
    "mm10_median = round(mm10_df['yield'].median(), 2)\n",
    "mm5_mean = round(mm5_df['yield'].mean(), 2)\n",
    "mm5_median = round(mm5_df['yield'].median(), 2)\n",
    "mm3_mean = round(mm3_df['yield'].mean(), 2)\n",
    "mm3_median = round(mm3_df['yield'].median(), 2)\n",
    "\n",
    "\n",
    "print(f'The 10 year mean yield is: {mm10_mean}%')\n",
    "print(f'The 10 year median yield is: {mm10_median}%')\n",
    "print()\n",
    "print(f'The 5 year mean yield is: {mm5_mean}%')\n",
    "print(f'The 5 year median yield is: {mm5_median}%')\n",
    "print()\n",
    "print(f'The 3 year mean yield is: {mm3_mean}%')\n",
    "print(f'The 3 year median yield is: {mm3_median}%')\n",
    "print()\n"
   ],
   "metadata": {
    "collapsed": false,
    "pycharm": {
     "name": "#%%\n"
    }
   }
  },
  {
   "cell_type": "markdown",
   "source": [
    "#### Rolling 30 Day Mean & Median to Smooth Out Data"
   ],
   "metadata": {
    "collapsed": false,
    "pycharm": {
     "name": "#%% md\n"
    }
   }
  },
  {
   "cell_type": "code",
   "execution_count": null,
   "outputs": [],
   "source": [
    "rolling30_median_s = mm10_df['yield'].rolling(window=30).median()\n",
    "rolling30_median_s = rolling30_median_s.dropna()\n",
    "rolling30_mean_s = mm10_df['yield'].rolling(window=30).mean()\n",
    "rolling30_mean_s = rolling30_mean_s.dropna()\n",
    "rolling30_median = round(rolling30_median_s.median(), 2)\n",
    "rolling30_mean = round(rolling30_mean_s.median(), 2)\n",
    "\n",
    "\n",
    "print(f'The Mean of the 10 Year Rolling 30 Day Mean is: {rolling30_mean}%')\n",
    "print(f'The Median of the 10 Year Rolling 30 Day Median is: {rolling30_median}%')\n",
    "\n",
    "rolling30_data = {'median_30' : rolling30_median_s, 'mean_30' : rolling30_mean_s}\n",
    "rolling30_df = pd.DataFrame(rolling30_data)\n",
    "\n",
    "rolling30_df"
   ],
   "metadata": {
    "collapsed": false,
    "pycharm": {
     "name": "#%%\n"
    }
   }
  },
  {
   "cell_type": "markdown",
   "source": [
    "#### Graph Rolling 30 Day Mean & Median Over 10 Years"
   ],
   "metadata": {
    "collapsed": false,
    "pycharm": {
     "name": "#%% md\n"
    }
   }
  },
  {
   "cell_type": "code",
   "execution_count": null,
   "outputs": [],
   "source": [
    "rolling_fig = px.line(rolling30_df, x=rolling30_df.index, y=['mean_30', 'median_30'],\n",
    "                      title='10 Year Rolling Mean', color_discrete_sequence=['red', 'yellow'])\n",
    "rolling_fig.show()"
   ],
   "metadata": {
    "collapsed": false,
    "pycharm": {
     "name": "#%%\n"
    }
   }
  },
  {
   "cell_type": "markdown",
   "source": [
    "#### Dividend Yield Pivot Markers"
   ],
   "metadata": {
    "collapsed": false,
    "pycharm": {
     "name": "#%% md\n"
    }
   }
  },
  {
   "cell_type": "code",
   "execution_count": null,
   "outputs": [],
   "source": [
    "pivot = 3\n",
    "mos_10 = round((pivot * 0.1) + pivot, 1)\n",
    "mos_20 = round((pivot * 0.2) + pivot, 1)\n",
    "\n",
    "\n",
    "print(f'The Dividend Yield Pivot Point is: {pivot}%')\n",
    "print()\n",
    "print(f'The Dividend Yield 10 Percent Margin of Safety is: {mos_10}%')\n",
    "print()\n",
    "print(f'The Dividend Yield 20 Percent Margin of Safety is: {mos_20}%')\n",
    "print()"
   ],
   "metadata": {
    "collapsed": false,
    "pycharm": {
     "name": "#%%\n"
    }
   }
  },
  {
   "cell_type": "markdown",
   "source": [
    "#### Graph Divident Pivots & MOS"
   ],
   "metadata": {
    "collapsed": false,
    "pycharm": {
     "name": "#%% md\n"
    }
   }
  },
  {
   "cell_type": "code",
   "execution_count": null,
   "outputs": [],
   "source": [
    "fwd_div_fig.add_hline(y=pivot, line_dash='dot', annotation_text='Pivot', annotation_position='bottom left', line_color='red')\n",
    "fwd_div_fig.add_hline(y=mos_10, line_dash='dot', annotation_text='MOS_10', annotation_position='bottom left', line_color='yellow')\n",
    "fwd_div_fig.add_hline(y=mos_20, line_dash='dot', annotation_text='MOS_20', annotation_position='bottom left', line_color='green')\n",
    "fwd_div_fig.show()"
   ],
   "metadata": {
    "collapsed": false,
    "pycharm": {
     "name": "#%%\n"
    }
   }
  }
 ],
 "metadata": {
  "kernelspec": {
   "display_name": "Python 3",
   "language": "python",
   "name": "python3"
  },
  "language_info": {
   "codemirror_mode": {
    "name": "ipython",
    "version": 2
   },
   "file_extension": ".py",
   "mimetype": "text/x-python",
   "name": "python",
   "nbconvert_exporter": "python",
   "pygments_lexer": "ipython2",
   "version": "2.7.6"
  }
 },
 "nbformat": 4,
 "nbformat_minor": 0
}