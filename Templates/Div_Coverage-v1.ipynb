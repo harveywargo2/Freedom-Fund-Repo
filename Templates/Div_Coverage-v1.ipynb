{
 "cells": [
  {
   "cell_type": "markdown",
   "source": [
    "# Dividend Coverage - Version 1.0"
   ],
   "metadata": {
    "collapsed": false,
    "pycharm": {
     "name": "#%% md\n"
    }
   }
  },
  {
   "cell_type": "code",
   "execution_count": null,
   "outputs": [],
   "source": [
    "%%capture\n",
    "\n",
    "import pandas as pd\n",
    "import plotly.express as px\n",
    "import aesoppy.aesop as aesop\n",
    "import os\n",
    "\n",
    "# Comon Variables\n",
    "data = os.path.join(os.getcwd(), 'data')\n",
    "\n",
    "# DataFrames\n",
    "fin_df = pd.read_csv(os.path.join(data, 'financials.csv'), index_col='fiscal_year')\n",
    "payout_ratio = aesop.DividendCoverage(financials_df=fin_df).payout_coverage_df\n",
    "cash_ratio =aesop.DividendCoverage(financials_df=fin_df).cash_coverage_df"
   ],
   "metadata": {
    "collapsed": false,
    "pycharm": {
     "name": "#%%\n"
    }
   }
  },
  {
   "cell_type": "markdown",
   "source": [
    "## Dividends Payout Ratios & Totals"
   ],
   "metadata": {
    "collapsed": false,
    "pycharm": {
     "name": "#%% md\n"
    }
   }
  },
  {
   "cell_type": "code",
   "execution_count": null,
   "outputs": [],
   "source": [
    "payout_ratio['income_ratio'] = round(payout_ratio['payout_income'] * 100, 2)\n",
    "payout_ratio['fcf_ratio'] = round(payout_ratio['payout_fcf'] * 100, 2)\n",
    "payout_ratio"
   ],
   "metadata": {
    "collapsed": false,
    "pycharm": {
     "name": "#%%\n"
    }
   }
  },
  {
   "cell_type": "code",
   "execution_count": null,
   "outputs": [],
   "source": [
    "payout_fig = px.line(payout_ratio, x=payout_ratio.index, y=['income_ratio', 'fcf_ratio'],\n",
    "                      title='Payout Ratio', color_discrete_sequence=['red', 'yellow'])\n",
    "payout_fig.show()"
   ],
   "metadata": {
    "collapsed": false,
    "pycharm": {
     "name": "#%%\n"
    }
   }
  },
  {
   "cell_type": "code",
   "execution_count": null,
   "outputs": [],
   "source": [
    "payout_data_df = payout_ratio[['free_cash_flow', 'net_income','cash_for_dividends' ]].copy()\n",
    "payout_data_df.rename(columns={'free_cash_flow': 'fcf','net_income': 'net', 'cash_for_dividends': 'dividends' }, inplace=True)\n",
    "payout_data_df['dividends'] = abs(payout_data_df['dividends'].copy())"
   ],
   "metadata": {
    "collapsed": false,
    "pycharm": {
     "name": "#%%\n"
    }
   }
  },
  {
   "cell_type": "code",
   "execution_count": null,
   "outputs": [],
   "source": [
    "paydata_fig = px.line(payout_data_df, x=payout_data_df.index, y=['dividends', 'fcf', 'net'],\n",
    "                      title='Cash Payout', color_discrete_sequence=['blue', 'red', 'yellow'])\n",
    "paydata_fig.show()"
   ],
   "metadata": {
    "collapsed": false,
    "pycharm": {
     "name": "#%%\n"
    }
   }
  },
  {
   "cell_type": "markdown",
   "source": [
    "## Dividend Payout vs Cash Ratios\n"
   ],
   "metadata": {
    "collapsed": false,
    "pycharm": {
     "name": "#%% md\n"
    }
   }
  },
  {
   "cell_type": "code",
   "execution_count": null,
   "outputs": [],
   "source": [
    "cash_ratio['cce_ratio'] = round(cash_ratio['payout_cce'] * 100, 2)\n",
    "cash_ratio['cfo_ratio'] = round(cash_ratio['payout_cfo'] * 100, 2)\n",
    "cash_ratio"
   ],
   "metadata": {
    "collapsed": false,
    "pycharm": {
     "name": "#%%\n"
    }
   }
  },
  {
   "cell_type": "code",
   "execution_count": null,
   "outputs": [],
   "source": [
    "cash_fig = px.line(cash_ratio, x=cash_ratio.index, y=['cce_ratio', 'cfo_ratio'],\n",
    "                      title='Cash Ratio', color_discrete_sequence=['red', 'yellow'])\n",
    "cash_fig.show()"
   ],
   "metadata": {
    "collapsed": false,
    "pycharm": {
     "name": "#%%\n"
    }
   }
  },
  {
   "cell_type": "code",
   "execution_count": null,
   "outputs": [],
   "source": [
    "cash_data_df = cash_ratio[['cash_from_ops', 'cash_equivalents','market_securities','cash_for_dividends' ]].copy()\n",
    "cash_data_df['cce'] = cash_data_df['cash_equivalents'] + cash_data_df['market_securities']\n",
    "cash_data_df['dividends'] = abs(cash_data_df['cash_for_dividends'])\n",
    "cash_data_df['cfo'] = cash_data_df['cash_from_ops']\n",
    "cash_data_df"
   ],
   "metadata": {
    "collapsed": false,
    "pycharm": {
     "name": "#%%\n"
    }
   }
  },
  {
   "cell_type": "code",
   "execution_count": null,
   "outputs": [],
   "source": [
    "cashdata_fig = px.line(cash_data_df, x=cash_data_df.index, y=['dividends', 'cce', 'cfo'],\n",
    "                      title='Cash Payout', color_discrete_sequence=['blue', 'red', 'yellow'])\n",
    "cashdata_fig.show()"
   ],
   "metadata": {
    "collapsed": false,
    "pycharm": {
     "name": "#%%\n"
    }
   }
  }
 ],
 "metadata": {
  "kernelspec": {
   "display_name": "Python 3",
   "language": "python",
   "name": "python3"
  },
  "language_info": {
   "codemirror_mode": {
    "name": "ipython",
    "version": 2
   },
   "file_extension": ".py",
   "mimetype": "text/x-python",
   "name": "python",
   "nbconvert_exporter": "python",
   "pygments_lexer": "ipython2",
   "version": "2.7.6"
  }
 },
 "nbformat": 4,
 "nbformat_minor": 0
}