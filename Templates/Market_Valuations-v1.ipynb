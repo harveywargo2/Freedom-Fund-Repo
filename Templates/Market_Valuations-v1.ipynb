{
 "cells": [
  {
   "cell_type": "markdown",
   "source": [
    "# Market Valuations - Version 1"
   ],
   "metadata": {
    "collapsed": false,
    "pycharm": {
     "name": "#%% md\n"
    }
   }
  },
  {
   "cell_type": "code",
   "execution_count": null,
   "outputs": [],
   "source": [
    "import pandas as pd\n",
    "import plotly.express as px\n",
    "import aesoppy.aesop as aesop\n",
    "import os\n",
    "\n",
    "# Comon Variables\n",
    "data = os.path.join(os.getcwd(), 'data')\n",
    "\n",
    "# DataFrames\n",
    "fin_df = pd.read_csv(os.path.join(data, 'financials.csv'), index_col='fiscal_year')\n",
    "pershare_df = pd.read_csv(os.path.join(data, 'pershare.csv'), index_col='fiscal_year')\n",
    "\n",
    "mv_df = aesop.MarketValuation(financials_df=fin_df, pershare_df=pershare_df)\n",
    "mv_ps_df = mv_df.valuation_ps_df\n",
    "mv_tc_df = mv_df.valuation_tc_df\n"
   ],
   "metadata": {
    "collapsed": false,
    "pycharm": {
     "name": "#%%\n"
    }
   }
  },
  {
   "cell_type": "code",
   "execution_count": null,
   "outputs": [],
   "source": [
    "# Trim to 20 years\n",
    "for index, row in mv_ps_df.iterrows():\n",
    "    if aesop.aesop_now.year - index >= 21:\n",
    "        mv_ps_df.drop(index, inplace=True)\n",
    "\n",
    "mv_ps_df"
   ],
   "metadata": {
    "collapsed": false,
    "pycharm": {
     "name": "#%%\n"
    }
   }
  },
  {
   "cell_type": "code",
   "execution_count": null,
   "outputs": [],
   "source": [
    "# Trim to 20 years\n",
    "for index, row in mv_tc_df.iterrows():\n",
    "    if aesop.aesop_now.year - index >= 21:\n",
    "        mv_tc_df.drop(index, inplace=True)\n",
    "\n",
    "mv_tc_df['market_value_high'] = round(mv_ps_df['pershare_high_price'] * mv_tc_df['shares_outstanding_eop'], 1)\n",
    "mv_tc_df['market_value_low'] = round(mv_ps_df['pershare_low_price'] * mv_tc_df['shares_outstanding_eop'], 1)\n",
    "\n",
    "mv_tc_df"
   ],
   "metadata": {
    "collapsed": false,
    "pycharm": {
     "name": "#%%\n"
    }
   }
  },
  {
   "cell_type": "markdown",
   "source": [
    "## Price To Revenue"
   ],
   "metadata": {
    "collapsed": false,
    "pycharm": {
     "name": "#%% md\n"
    }
   }
  },
  {
   "cell_type": "code",
   "execution_count": null,
   "outputs": [],
   "source": [
    "rps_df = pd.DataFrame(mv_ps_df[['pershare_revenue', 'pershare_high_price', 'pershare_low_price']], index=mv_ps_df.index)\n",
    "rps_df['price_to_rev_high'] = round(rps_df['pershare_high_price'] / rps_df['pershare_revenue'], 1)\n",
    "rps_df['price_to_rev_low'] = round(rps_df['pershare_low_price'] / rps_df['pershare_revenue'], 1)\n",
    "rps_df['price_to_rev_mean'] = round((rps_df['price_to_rev_high'] + rps_df['price_to_rev_low'])/ 2 , 1)\n",
    "\n",
    "rps_df"
   ],
   "metadata": {
    "collapsed": false,
    "pycharm": {
     "name": "#%%\n"
    }
   }
  },
  {
   "cell_type": "code",
   "execution_count": null,
   "outputs": [],
   "source": [
    "fig1 = px.line(rps_df, x=rps_df.index, y=['price_to_rev_high', 'price_to_rev_low', 'price_to_rev_mean'],\n",
    "               color_discrete_sequence=['blue', 'green','yellow'], title='Per Share Price to Revenue')\n",
    "fig1.show()"
   ],
   "metadata": {
    "collapsed": false,
    "pycharm": {
     "name": "#%%\n"
    }
   }
  },
  {
   "cell_type": "code",
   "execution_count": null,
   "outputs": [],
   "source": [
    "rtc_df = pd.DataFrame(mv_tc_df[['revenue', 'market_value_high', 'market_value_low']], index=mv_tc_df.index)\n",
    "rtc_df['mv_rev_high'] = round(rtc_df['market_value_high'] / rtc_df['revenue'], 1)\n",
    "rtc_df['mv_rev_low'] = round(rtc_df['market_value_low'] / rtc_df['revenue'], 1)\n",
    "rtc_df['mv_rev_mean'] = round((rtc_df['mv_rev_high'] + rtc_df['mv_rev_low'])/ 2 , 1)\n",
    "rtc_df"
   ],
   "metadata": {
    "collapsed": false,
    "pycharm": {
     "name": "#%%\n"
    }
   }
  },
  {
   "cell_type": "code",
   "execution_count": null,
   "outputs": [],
   "source": [
    "fig11 = px.line(rtc_df, x=rtc_df.index, y=['mv_rev_high', 'mv_rev_low', 'mv_rev_mean'],\n",
    "               color_discrete_sequence=['blue', 'green','yellow'], title='Total Company Price to Revenue')\n",
    "fig11.show()"
   ],
   "metadata": {
    "collapsed": false,
    "pycharm": {
     "name": "#%%\n"
    }
   }
  },
  {
   "cell_type": "markdown",
   "source": [
    "## Price To Earnings"
   ],
   "metadata": {
    "collapsed": false,
    "pycharm": {
     "name": "#%% md\n"
    }
   }
  },
  {
   "cell_type": "code",
   "execution_count": null,
   "outputs": [],
   "source": [
    "eps_df = pd.DataFrame(mv_ps_df[['pershare_earnings', 'pershare_high_price', 'pershare_low_price']], index=mv_ps_df.index)\n",
    "eps_df['price_to_earnings_high'] = round(eps_df['pershare_high_price'] / eps_df['pershare_earnings'], 1)\n",
    "eps_df['price_to_earnings_low'] = round(eps_df['pershare_low_price'] / eps_df['pershare_earnings'], 1)\n",
    "eps_df['price_to_earnings_mean'] = round((eps_df['price_to_earnings_high'] + eps_df['price_to_earnings_low'])/ 2 , 1)\n",
    "eps_df"
   ],
   "metadata": {
    "collapsed": false,
    "pycharm": {
     "name": "#%%\n"
    }
   }
  },
  {
   "cell_type": "code",
   "execution_count": null,
   "outputs": [],
   "source": [
    "fig2 = px.line(eps_df, x=eps_df.index, y=['price_to_earnings_high', 'price_to_earnings_low', 'price_to_earnings_mean'],\n",
    "               color_discrete_sequence=['blue', 'green','yellow'], title='Per Share Price to Earnings')\n",
    "fig2.show()"
   ],
   "metadata": {
    "collapsed": false,
    "pycharm": {
     "name": "#%%\n"
    }
   }
  },
  {
   "cell_type": "code",
   "execution_count": null,
   "outputs": [],
   "source": [
    "etc_df = pd.DataFrame(mv_tc_df[['net_income', 'market_value_high', 'market_value_low']], index=mv_tc_df.index)\n",
    "etc_df['mv_earnings_high'] = round(etc_df['market_value_high'] / etc_df['net_income'], 1)\n",
    "etc_df['mv_earnings_low'] = round(etc_df['market_value_low'] / etc_df['net_income'], 1)\n",
    "etc_df['mv_earnings_mean'] = round((etc_df['mv_earnings_high'] + etc_df['mv_earnings_low'])/ 2 , 1)\n",
    "etc_df"
   ],
   "metadata": {
    "collapsed": false,
    "pycharm": {
     "name": "#%%\n"
    }
   }
  },
  {
   "cell_type": "code",
   "execution_count": null,
   "outputs": [],
   "source": [
    "fig22 = px.line(etc_df, x=etc_df.index, y=['mv_earnings_high', 'mv_earnings_low', 'mv_earnings_mean'],\n",
    "               color_discrete_sequence=['blue', 'green','yellow'], title='Total Company Price to Earnings')\n",
    "fig22.show()"
   ],
   "metadata": {
    "collapsed": false,
    "pycharm": {
     "name": "#%%\n"
    }
   }
  },
  {
   "cell_type": "markdown",
   "source": [
    "## Price to FCF"
   ],
   "metadata": {
    "collapsed": false,
    "pycharm": {
     "name": "#%% md\n"
    }
   }
  },
  {
   "cell_type": "code",
   "execution_count": null,
   "outputs": [],
   "source": [
    "fps_df = pd.DataFrame(mv_ps_df[['pershare_fcf', 'pershare_high_price', 'pershare_low_price']], index=mv_ps_df.index)\n",
    "fps_df['price_to_fcf_high'] = round(fps_df['pershare_high_price'] / fps_df['pershare_fcf'], 1)\n",
    "fps_df['price_to_fcf_low'] = round(fps_df['pershare_low_price'] / fps_df['pershare_fcf'], 1)\n",
    "fps_df['price_to_fcf_mean'] = round((fps_df['price_to_fcf_high'] + fps_df['price_to_fcf_low'])/ 2 , 1)\n",
    "fps_df"
   ],
   "metadata": {
    "collapsed": false,
    "pycharm": {
     "name": "#%%\n"
    }
   }
  },
  {
   "cell_type": "code",
   "execution_count": null,
   "outputs": [],
   "source": [
    "fig3 = px.line(fps_df, x=fps_df.index, y=['price_to_fcf_high', 'price_to_fcf_low', 'price_to_fcf_mean'],\n",
    "               color_discrete_sequence=['blue', 'green','yellow'], title='Per Share Price to FCF')\n",
    "fig3.show()"
   ],
   "metadata": {
    "collapsed": false,
    "pycharm": {
     "name": "#%%\n"
    }
   }
  },
  {
   "cell_type": "code",
   "execution_count": null,
   "outputs": [],
   "source": [
    "ftc_df = pd.DataFrame(mv_tc_df[['free_cash_flow', 'market_value_high', 'market_value_low']], index=mv_tc_df.index)\n",
    "ftc_df['mv_fcf_high'] = round(ftc_df['market_value_high'] / ftc_df['free_cash_flow'], 1)\n",
    "ftc_df['mv_fcf_low'] = round(ftc_df['market_value_low'] / ftc_df['free_cash_flow'], 1)\n",
    "ftc_df['mv_fcf_mean'] = round((ftc_df['mv_fcf_high'] + ftc_df['mv_fcf_low'])/ 2 , 1)\n",
    "ftc_df"
   ],
   "metadata": {
    "collapsed": false,
    "pycharm": {
     "name": "#%%\n"
    }
   }
  },
  {
   "cell_type": "code",
   "execution_count": null,
   "outputs": [],
   "source": [
    "fig33 = px.line(ftc_df, x=ftc_df.index, y=['mv_fcf_high', 'mv_fcf_low', 'mv_fcf_mean'],\n",
    "               color_discrete_sequence=['blue', 'green','yellow'], title='Per Share Price to FCF')\n",
    "fig33.show()"
   ],
   "metadata": {
    "collapsed": false,
    "pycharm": {
     "name": "#%%\n"
    }
   }
  },
  {
   "cell_type": "code",
   "execution_count": null,
   "outputs": [],
   "source": [
    "otc_df = pd.DataFrame(mv_tc_df[['cash_from_ops', 'market_value_high', 'market_value_low']], index=mv_tc_df.index)\n",
    "otc_df['mv_cfo_high'] = round(otc_df['market_value_high'] / otc_df['cash_from_ops'], 1)\n",
    "otc_df['mv_cfo_low'] = round(otc_df['market_value_low'] / otc_df['cash_from_ops'], 1)\n",
    "otc_df['mv_cfo_mean'] = round((otc_df['mv_cfo_high'] + otc_df['mv_cfo_low'])/ 2 , 1)\n",
    "otc_df"
   ],
   "metadata": {
    "collapsed": false,
    "pycharm": {
     "name": "#%%\n"
    }
   }
  },
  {
   "cell_type": "code",
   "execution_count": null,
   "outputs": [],
   "source": [
    "fig4 = px.line(otc_df, x=otc_df.index, y=['mv_cfo_high', 'mv_cfo_low', 'mv_cfo_mean'],\n",
    "               color_discrete_sequence=['blue', 'green','yellow'], title='Per Share Price to FCF')\n",
    "fig4.show()"
   ],
   "metadata": {
    "collapsed": false,
    "pycharm": {
     "name": "#%%\n"
    }
   }
  },
  {
   "cell_type": "code",
   "execution_count": null,
   "outputs": [],
   "source": [],
   "metadata": {
    "collapsed": false,
    "pycharm": {
     "name": "#%%\n"
    }
   }
  }
 ],
 "metadata": {
  "kernelspec": {
   "display_name": "Python 3",
   "language": "python",
   "name": "python3"
  },
  "language_info": {
   "codemirror_mode": {
    "name": "ipython",
    "version": 2
   },
   "file_extension": ".py",
   "mimetype": "text/x-python",
   "name": "python",
   "nbconvert_exporter": "python",
   "pygments_lexer": "ipython2",
   "version": "2.7.6"
  }
 },
 "nbformat": 4,
 "nbformat_minor": 0
}