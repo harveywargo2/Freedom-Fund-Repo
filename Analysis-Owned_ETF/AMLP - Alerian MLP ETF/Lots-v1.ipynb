{
 "cells": [
  {
   "cell_type": "markdown",
   "source": [
    "# Lots - Version 1"
   ],
   "metadata": {
    "collapsed": false,
    "pycharm": {
     "name": "#%% md\n"
    }
   }
  },
  {
   "cell_type": "code",
   "execution_count": 1,
   "outputs": [],
   "source": [
    "%%capture\n",
    "\n",
    "import pandas as pd\n",
    "import aesoppy.aesop as aesop\n",
    "import os\n",
    "\n",
    "# Comon Variables\n",
    "data = os.path.join(os.getcwd(), 'data')\n",
    "\n",
    "# DataFrames\n",
    "lots_df = pd.read_csv(os.path.join(data, 'lots.csv'))\n",
    "lots_df['date'] = pd.to_datetime(lots_df['date'], format='%m/%d/%y')\n",
    "lots_df.set_index('date', inplace=True)\n",
    "\n",
    "# Current Data\n",
    "stock_price = 52.31\n",
    "fwd_div = 3.8\n",
    "current_year = aesop.aesop_now.year\n",
    "\n"
   ],
   "metadata": {
    "collapsed": false,
    "pycharm": {
     "name": "#%%\n"
    }
   }
  },
  {
   "cell_type": "code",
   "execution_count": 2,
   "outputs": [
    {
     "data": {
      "text/plain": "            lot_cost  lot_div  div_total  fwd_div  lot_year  price  \\\ndate                                                                 \n2024-10-31     46.64     3.76       0.95      3.8      2024  52.31   \n2022-12-20     37.10     3.00       7.05      3.8      2022  52.31   \n2022-07-14     32.19     2.92       9.27      3.8      2022  52.31   \n2022-07-06     31.34     2.92       9.27      3.8      2022  52.31   \n2022-06-29     33.18     2.92       9.27      3.8      2022  52.31   \n2022-06-27     33.19     2.92       9.27      3.8      2022  52.31   \n2022-06-23     31.58     2.92       9.27      3.8      2022  52.31   \n2022-06-17     32.33     2.92       9.27      3.8      2022  52.31   \n2022-05-12     34.60     2.92       9.27      3.8      2022  52.31   \n2022-05-11     35.51     2.92       9.27      3.8      2022  52.31   \n\n            current_year    yoc  end_total  end_begin    period   cagr  \ndate                                                                    \n2024-10-31          2025   8.15      53.26   1.141938  1.000000  14.19  \n2022-12-20          2025  10.24      59.36   1.600000  0.333333  16.96  \n2022-07-14          2025  11.80      61.58   1.913016  0.333333  24.14  \n2022-07-06          2025  12.13      61.58   1.964901  0.333333  25.25  \n2022-06-29          2025  11.45      61.58   1.855937  0.333333  22.89  \n2022-06-27          2025  11.45      61.58   1.855378  0.333333  22.88  \n2022-06-23          2025  12.03      61.58   1.949968  0.333333  24.93  \n2022-06-17          2025  11.75      61.58   1.904732  0.333333  23.96  \n2022-05-12          2025  10.98      61.58   1.779769  0.333333  21.19  \n2022-05-11          2025  10.70      61.58   1.734159  0.333333  20.14  ",
      "text/html": "<div>\n<style scoped>\n    .dataframe tbody tr th:only-of-type {\n        vertical-align: middle;\n    }\n\n    .dataframe tbody tr th {\n        vertical-align: top;\n    }\n\n    .dataframe thead th {\n        text-align: right;\n    }\n</style>\n<table border=\"1\" class=\"dataframe\">\n  <thead>\n    <tr style=\"text-align: right;\">\n      <th></th>\n      <th>lot_cost</th>\n      <th>lot_div</th>\n      <th>div_total</th>\n      <th>fwd_div</th>\n      <th>lot_year</th>\n      <th>price</th>\n      <th>current_year</th>\n      <th>yoc</th>\n      <th>end_total</th>\n      <th>end_begin</th>\n      <th>period</th>\n      <th>cagr</th>\n    </tr>\n    <tr>\n      <th>date</th>\n      <th></th>\n      <th></th>\n      <th></th>\n      <th></th>\n      <th></th>\n      <th></th>\n      <th></th>\n      <th></th>\n      <th></th>\n      <th></th>\n      <th></th>\n      <th></th>\n    </tr>\n  </thead>\n  <tbody>\n    <tr>\n      <th>2024-10-31</th>\n      <td>46.64</td>\n      <td>3.76</td>\n      <td>0.95</td>\n      <td>3.8</td>\n      <td>2024</td>\n      <td>52.31</td>\n      <td>2025</td>\n      <td>8.15</td>\n      <td>53.26</td>\n      <td>1.141938</td>\n      <td>1.000000</td>\n      <td>14.19</td>\n    </tr>\n    <tr>\n      <th>2022-12-20</th>\n      <td>37.10</td>\n      <td>3.00</td>\n      <td>7.05</td>\n      <td>3.8</td>\n      <td>2022</td>\n      <td>52.31</td>\n      <td>2025</td>\n      <td>10.24</td>\n      <td>59.36</td>\n      <td>1.600000</td>\n      <td>0.333333</td>\n      <td>16.96</td>\n    </tr>\n    <tr>\n      <th>2022-07-14</th>\n      <td>32.19</td>\n      <td>2.92</td>\n      <td>9.27</td>\n      <td>3.8</td>\n      <td>2022</td>\n      <td>52.31</td>\n      <td>2025</td>\n      <td>11.80</td>\n      <td>61.58</td>\n      <td>1.913016</td>\n      <td>0.333333</td>\n      <td>24.14</td>\n    </tr>\n    <tr>\n      <th>2022-07-06</th>\n      <td>31.34</td>\n      <td>2.92</td>\n      <td>9.27</td>\n      <td>3.8</td>\n      <td>2022</td>\n      <td>52.31</td>\n      <td>2025</td>\n      <td>12.13</td>\n      <td>61.58</td>\n      <td>1.964901</td>\n      <td>0.333333</td>\n      <td>25.25</td>\n    </tr>\n    <tr>\n      <th>2022-06-29</th>\n      <td>33.18</td>\n      <td>2.92</td>\n      <td>9.27</td>\n      <td>3.8</td>\n      <td>2022</td>\n      <td>52.31</td>\n      <td>2025</td>\n      <td>11.45</td>\n      <td>61.58</td>\n      <td>1.855937</td>\n      <td>0.333333</td>\n      <td>22.89</td>\n    </tr>\n    <tr>\n      <th>2022-06-27</th>\n      <td>33.19</td>\n      <td>2.92</td>\n      <td>9.27</td>\n      <td>3.8</td>\n      <td>2022</td>\n      <td>52.31</td>\n      <td>2025</td>\n      <td>11.45</td>\n      <td>61.58</td>\n      <td>1.855378</td>\n      <td>0.333333</td>\n      <td>22.88</td>\n    </tr>\n    <tr>\n      <th>2022-06-23</th>\n      <td>31.58</td>\n      <td>2.92</td>\n      <td>9.27</td>\n      <td>3.8</td>\n      <td>2022</td>\n      <td>52.31</td>\n      <td>2025</td>\n      <td>12.03</td>\n      <td>61.58</td>\n      <td>1.949968</td>\n      <td>0.333333</td>\n      <td>24.93</td>\n    </tr>\n    <tr>\n      <th>2022-06-17</th>\n      <td>32.33</td>\n      <td>2.92</td>\n      <td>9.27</td>\n      <td>3.8</td>\n      <td>2022</td>\n      <td>52.31</td>\n      <td>2025</td>\n      <td>11.75</td>\n      <td>61.58</td>\n      <td>1.904732</td>\n      <td>0.333333</td>\n      <td>23.96</td>\n    </tr>\n    <tr>\n      <th>2022-05-12</th>\n      <td>34.60</td>\n      <td>2.92</td>\n      <td>9.27</td>\n      <td>3.8</td>\n      <td>2022</td>\n      <td>52.31</td>\n      <td>2025</td>\n      <td>10.98</td>\n      <td>61.58</td>\n      <td>1.779769</td>\n      <td>0.333333</td>\n      <td>21.19</td>\n    </tr>\n    <tr>\n      <th>2022-05-11</th>\n      <td>35.51</td>\n      <td>2.92</td>\n      <td>9.27</td>\n      <td>3.8</td>\n      <td>2022</td>\n      <td>52.31</td>\n      <td>2025</td>\n      <td>10.70</td>\n      <td>61.58</td>\n      <td>1.734159</td>\n      <td>0.333333</td>\n      <td>20.14</td>\n    </tr>\n  </tbody>\n</table>\n</div>"
     },
     "execution_count": 2,
     "metadata": {},
     "output_type": "execute_result"
    }
   ],
   "source": [
    "lots_df['fwd_div'] = fwd_div\n",
    "lots_df['lot_year'] = lots_df.index.year\n",
    "lots_df['price'] = stock_price\n",
    "lots_df['current_year'] = aesop.aesop_now.year\n",
    "lots_df['yoc'] = round((lots_df['fwd_div'] / lots_df['lot_cost']) * 100, 2)\n",
    "lots_df['end_total'] = lots_df['price'] + lots_df['div_total']\n",
    "lots_df['end_begin'] = lots_df['end_total'] / lots_df['lot_cost']\n",
    "lots_df['period'] = 1 / (lots_df['current_year'] - lots_df['lot_year'])\n",
    "lots_df['cagr'] = round(((lots_df['end_begin'] ** lots_df['period']) - 1) * 100, 2)\n",
    "lots_df"
   ],
   "metadata": {
    "collapsed": false,
    "pycharm": {
     "name": "#%%\n"
    }
   }
  },
  {
   "cell_type": "code",
   "execution_count": 2,
   "outputs": [],
   "source": [
    "\n",
    "\n"
   ],
   "metadata": {
    "collapsed": false,
    "pycharm": {
     "name": "#%%\n"
    }
   }
  }
 ],
 "metadata": {
  "kernelspec": {
   "display_name": "Python 3",
   "language": "python",
   "name": "python3"
  },
  "language_info": {
   "codemirror_mode": {
    "name": "ipython",
    "version": 2
   },
   "file_extension": ".py",
   "mimetype": "text/x-python",
   "name": "python",
   "nbconvert_exporter": "python",
   "pygments_lexer": "ipython2",
   "version": "2.7.6"
  }
 },
 "nbformat": 4,
 "nbformat_minor": 0
}