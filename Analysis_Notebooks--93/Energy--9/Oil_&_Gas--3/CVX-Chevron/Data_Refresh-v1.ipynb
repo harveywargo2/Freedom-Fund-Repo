{
 "cells": [
  {
   "cell_type": "markdown",
   "source": [
    "# Notebook to refresh data"
   ],
   "metadata": {
    "collapsed": false,
    "pycharm": {
     "name": "#%% md\n"
    }
   }
  },
  {
   "cell_type": "code",
   "source": [
    "%%capture\n",
    "\n",
    "import gftools as gf\n",
    "from dotenv import load_dotenv\n",
    "import os\n",
    "\n",
    "# Gurufocus Token\n",
    "load_dotenv()\n",
    "gt = os.getenv('guru_token')\n",
    "ticker = 'CVX'\n",
    "\n",
    "# Data Dump Directory Create/Check\n",
    "os.makedirs('dumps', exist_ok=True)\n",
    "directory = os.path.join(os.getcwd(), 'dumps')"
   ],
   "metadata": {
    "collapsed": false,
    "pycharm": {
     "name": "#%%\n"
    },
    "ExecuteTime": {
     "end_time": "2025-05-19T11:21:07.307206Z",
     "start_time": "2025-05-19T11:21:06.103760Z"
    }
   },
   "outputs": [],
   "execution_count": 1
  },
  {
   "cell_type": "code",
   "source": [
    "# Guru Data Dump\n",
    "guru_div = gf.GuruDividendHistory(ticker=ticker, token=gt).api_data_df_nrm\n",
    "guru_div.to_csv(os.path.join(directory, 'guru-div.csv'), index=False)\n",
    "\n",
    "guru_price = gf.GuruPriceHistory(ticker=ticker, token=gt).api_data_df_nrm\n",
    "guru_price.to_csv(os.path.join(directory, 'guru-price.csv'), index=False)\n",
    "\n",
    "guru_fin = gf.GuruStockAnnualTenK(ticker=ticker, token=gt).api_data_df_nrm\n",
    "guru_fin.to_csv(os.path.join(directory, 'guru-fin.csv'), index=False)\n",
    "\n",
    "guru_value = gf.GuruAnnualMarketValue(ticker=ticker, token=gt).api_data_df_nrm\n",
    "guru_value.to_csv(os.path.join(directory, 'guru-value.csv'), index=False)"
   ],
   "metadata": {
    "collapsed": false,
    "pycharm": {
     "name": "#%%\n"
    },
    "ExecuteTime": {
     "end_time": "2025-05-19T11:21:13.506252Z",
     "start_time": "2025-05-19T11:21:07.312458Z"
    }
   },
   "outputs": [],
   "execution_count": 2
  }
 ],
 "metadata": {
  "kernelspec": {
   "display_name": "Python 3",
   "language": "python",
   "name": "python3"
  },
  "language_info": {
   "codemirror_mode": {
    "name": "ipython",
    "version": 2
   },
   "file_extension": ".py",
   "mimetype": "text/x-python",
   "name": "python",
   "nbconvert_exporter": "python",
   "pygments_lexer": "ipython2",
   "version": "2.7.6"
  }
 },
 "nbformat": 4,
 "nbformat_minor": 0
}
